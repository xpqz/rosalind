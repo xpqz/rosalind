{
 "cells": [
  {
   "cell_type": "markdown",
   "metadata": {},
   "source": [
    "# Project Rosalind"
   ]
  },
  {
   "cell_type": "code",
   "execution_count": 66,
   "metadata": {},
   "outputs": [
    {
     "data": {
      "text/html": [
       "<span style=\"white-space:pre; font-family: monospace\">┌→────────────────┐\n",
       "│Was ON -style=max│\n",
       "└─────────────────┘\n",
       "</span>"
      ]
     },
     "execution_count": 66,
     "metadata": {},
     "output_type": "execute_result"
    },
    {
     "data": {
      "text/html": [
       "<span style=\"white-space:pre; font-family: monospace\">┌→─────┐\n",
       "│Was ON│\n",
       "└──────┘\n",
       "</span>"
      ]
     },
     "execution_count": 66,
     "metadata": {},
     "output_type": "execute_result"
    }
   ],
   "source": [
    "⎕IO←0    ⍝ Index origin 0\n",
    "⎕PP←34   ⍝ Numeric print precision\n",
    "⎕FR←1287 ⍝ IEEE 754-2008 128-bit decimal floating-point operations\n",
    "]box on -s=max\n",
    "]rows on\n",
    "hc←⎕SE.SALT.Load'HttpCommand'\n",
    "'pmat'⎕CY'dfns'"
   ]
  },
  {
   "cell_type": "markdown",
   "metadata": {},
   "source": [
    "Some utility routines"
   ]
  },
  {
   "cell_type": "code",
   "execution_count": 55,
   "metadata": {},
   "outputs": [],
   "source": [
    "assert←{⍺←'assertion failure' ⋄ 0∊⍵:⍺ ⎕signal 8 ⋄ shy←0}\n",
    "print←'¯'⎕R'-'⍤⍕⍤1⊢"
   ]
  },
  {
   "cell_type": "code",
   "execution_count": 20,
   "metadata": {},
   "outputs": [],
   "source": [
    "]dinput\n",
    "FASTA←{ ⍝ Read a DNA, RNA or protein string in the FASTA format\n",
    "    file ← '/Users/stefan/work/dyalog/rosalind/data/',⍵\n",
    "    flat ← (∊'>'=d)⊂∊d←⊃⎕NGET file 1\n",
    "    names ← ⊃¨'^>(Rosalind_\\d+)'⎕S'\\1'¨flat\n",
    "    names ('^>Rosalind_\\d+'⎕R''¨flat)\n",
    "}"
   ]
  },
  {
   "cell_type": "code",
   "execution_count": 72,
   "metadata": {},
   "outputs": [],
   "source": [
    "]dinput\n",
    "UniProt←{ ⍝ Fetch a protein definition by uniprot_id\n",
    "    keys←,⊆⍵\n",
    "    urls←(⊂'https://www.uniprot.org/uniprot/')∘.,keys∘.,⊂'.fasta'\n",
    "    r←hc.Get¨urls\n",
    "    {'\\n'⎕R''⍠('Mode' 'D')('DotAll' 1)⊢⊃,/(⎕UCS 10)(=⊂⊢)⍵}¨r.Data\n",
    "}"
   ]
  },
  {
   "cell_type": "code",
   "execution_count": 12,
   "metadata": {},
   "outputs": [],
   "source": [
    "compl_dna←{'TAGC'['ATCG'⍳⍵]}"
   ]
  },
  {
   "cell_type": "markdown",
   "metadata": {},
   "source": [
    "## Transcribing DNA into RNA\n",
    "http://rosalind.info/problems/rna/"
   ]
  },
  {
   "cell_type": "code",
   "execution_count": 27,
   "metadata": {},
   "outputs": [],
   "source": [
    "rna←{'U'@{'T'=⍵}⊢⍵} ⍝ T becomes U"
   ]
  },
  {
   "cell_type": "code",
   "execution_count": 29,
   "metadata": {},
   "outputs": [
    {
     "data": {
      "text/html": [
       "<span style=\"white-space:pre; font-family: monospace\">┌→──────────────────────┐\n",
       "│GAUGGAACUUGACUACGUAAAUU│\n",
       "└───────────────────────┘\n",
       "</span>"
      ]
     },
     "execution_count": 29,
     "metadata": {},
     "output_type": "execute_result"
    }
   ],
   "source": [
    "⊢r←rna 'GATGGAACTTGACTACGTAAATT'\n",
    "assert 'GAUGGAACUUGACUACGUAAAUU'≡r"
   ]
  },
  {
   "cell_type": "markdown",
   "metadata": {},
   "source": [
    "## Complementing a Strand of DNA\n",
    "\n",
    "http://rosalind.info/problems/revc/"
   ]
  },
  {
   "cell_type": "code",
   "execution_count": 2,
   "metadata": {},
   "outputs": [],
   "source": [
    "revc_rx←{(1⊂'ATCG')⎕R(1⊂'TAGC')⊢⊖⍵} ⍝ Regex"
   ]
  },
  {
   "cell_type": "code",
   "execution_count": 3,
   "metadata": {},
   "outputs": [],
   "source": [
    "revc←{'TAGC'['ATCG'⍳⍵]}"
   ]
  },
  {
   "cell_type": "code",
   "execution_count": 7,
   "metadata": {},
   "outputs": [
    {
     "data": {
      "text/html": [
       "<span style=\"white-space:pre; font-family: monospace\">TTTTGGGCCA\n",
       "</span>"
      ]
     },
     "execution_count": 7,
     "metadata": {},
     "output_type": "execute_result"
    }
   ],
   "source": [
    "⊢r←revc 'AAAACCCGGT'\n",
    "assert 'TTTTGGGCCA'≡r"
   ]
  },
  {
   "cell_type": "markdown",
   "metadata": {},
   "source": [
    "## Rabbits and Recurrence Relations\n",
    "http://rosalind.info/problems/fib/"
   ]
  },
  {
   "cell_type": "code",
   "execution_count": 9,
   "metadata": {},
   "outputs": [],
   "source": [
    "fib←{g←⍺⋄{⍺←0 1⋄⍵=0:⊃⍺⋄(1↓⍺,⍺[1]+g×⍺[0])∇⍵-1}⍵}"
   ]
  },
  {
   "cell_type": "code",
   "execution_count": 17,
   "metadata": {},
   "outputs": [
    {
     "data": {
      "text/html": [
       "<span style=\"white-space:pre; font-family: monospace\">19\n",
       "</span>"
      ]
     },
     "execution_count": 17,
     "metadata": {},
     "output_type": "execute_result"
    },
    {
     "data": {
      "text/html": [
       "<span style=\"white-space:pre; font-family: monospace\">14415648500221\n",
       "</span>"
      ]
     },
     "execution_count": 17,
     "metadata": {},
     "output_type": "execute_result"
    }
   ],
   "source": [
    "⊢r1←3 fib 5\n",
    "⊢r2←5 fib 31\n",
    "assert 19=r1\n",
    "assert 14415648500221=r2"
   ]
  },
  {
   "cell_type": "markdown",
   "metadata": {},
   "source": [
    "## Computing GC Content\n",
    "http://rosalind.info/problems/gc/"
   ]
  },
  {
   "cell_type": "code",
   "execution_count": 28,
   "metadata": {},
   "outputs": [
    {
     "data": {
      "text/html": [
       "<span style=\"white-space:pre; font-family: monospace\">Rosalind_7042\n",
       "50.9933775   \n",
       "</span>"
      ]
     },
     "execution_count": 28,
     "metadata": {},
     "output_type": "execute_result"
    }
   ],
   "source": [
    "data←(∊'>'=d)⊂∊d←⊃⎕NGET'/Users/stefan/work/dyalog/Rosalind/data/rosalind_gc.txt'1\n",
    "prop←{(+/⍵[1 2;1])÷+/⍵[;1]}¨{⍵[⍋⍵[;0];]}¨{{⍺,≢⍵}⌸14↓⍵}¨data\n",
    "⊢r←↑(1↓14↑best⊃data)(⍕7(⍎⍕)100×(best←⊃⍒prop)⊃prop)\n",
    "assert r≡2 13⍴'Rosalind_704250.9933775   '"
   ]
  },
  {
   "cell_type": "markdown",
   "metadata": {},
   "source": [
    "## Counting Point Mutations\n",
    "http://rosalind.info/problems/hamm/"
   ]
  },
  {
   "cell_type": "code",
   "execution_count": 35,
   "metadata": {},
   "outputs": [
    {
     "data": {
      "text/html": [
       "<span style=\"white-space:pre; font-family: monospace\">469\n",
       "</span>"
      ]
     },
     "execution_count": 35,
     "metadata": {},
     "output_type": "execute_result"
    }
   ],
   "source": [
    "⊢r←+/≠⌿↑⊃⎕NGET'/Users/stefan/work/dyalog/Rosalind/data/rosalind_hamm.txt'1\n",
    "assert 469=r"
   ]
  },
  {
   "cell_type": "markdown",
   "metadata": {},
   "source": [
    "## Mendel's First Law\n",
    "http://rosalind.info/problems/iprb/"
   ]
  },
  {
   "cell_type": "markdown",
   "metadata": {},
   "source": [
    "## Translating RNA into Protein\n",
    "http://rosalind.info/problems/prot/\n",
    "\n",
    "See https://en.wikipedia.org/wiki/Genetic_code#/media/File:3D_Genetic_Code.jpg"
   ]
  },
  {
   "cell_type": "code",
   "execution_count": 3,
   "metadata": {},
   "outputs": [],
   "source": [
    "codon←0 2 1⍉⍉4 4 4⍴'FLIVFLIVLLIVLLMVSPTASPTASPTASPTAYHNDYHND.QKE.QKECRSGCRSG.RRGWRRG'\n",
    "test←'AUGGCCAUGGCGCCCAGAACUGAGAUCAAUAGUACCCGUAUUAACGGGUGA'"
   ]
  },
  {
   "cell_type": "code",
   "execution_count": 5,
   "metadata": {},
   "outputs": [],
   "source": [
    "prot←{enc←0 1 2 3['UCAG'⍳⍵]⋄¯1↓⍺[⊂⍤1⊢(3÷⍨≢enc) 3⍴enc]}"
   ]
  },
  {
   "cell_type": "code",
   "execution_count": 49,
   "metadata": {},
   "outputs": [
    {
     "data": {
      "text/html": [
       "<span style=\"white-space:pre; font-family: monospace\">MAMAPRTEINSTRING\n",
       "</span>"
      ]
     },
     "execution_count": 49,
     "metadata": {},
     "output_type": "execute_result"
    }
   ],
   "source": [
    "⊢r←codon prot test\n",
    "assert r≡'MAMAPRTEINSTRING'"
   ]
  },
  {
   "cell_type": "code",
   "execution_count": 64,
   "metadata": {},
   "outputs": [
    {
     "data": {
      "text/html": [
       "<span style=\"white-space:pre; font-family: monospace\">MWESKYAVSANIAWSYINHADVRLSSDGRYEVPPNFRQAIKLIMPFHSAGLYYR\n",
       "</span>"
      ]
     },
     "execution_count": 64,
     "metadata": {},
     "output_type": "execute_result"
    }
   ],
   "source": [
    "data←⊃⎕NGET'/Users/stefan/work/dyalog/Rosalind/data/rosalind_prot.txt'1\n",
    "r←codon prot (⊃data)\n",
    "54↑r ⍝ String is long. Show the first 50 or so letters only\n",
    "assert 'MWESKYAVSANIAWSYINHADVRLSSDGRYEVPPNFRQAIKLIMPFHSAGLYYR'≡54↑r"
   ]
  },
  {
   "cell_type": "markdown",
   "metadata": {},
   "source": [
    "## Finding a Motif in DNA\n",
    "http://rosalind.info/problems/subs/"
   ]
  },
  {
   "cell_type": "code",
   "execution_count": 69,
   "metadata": {},
   "outputs": [],
   "source": [
    "sub←⍸⍷"
   ]
  },
  {
   "cell_type": "code",
   "execution_count": 74,
   "metadata": {},
   "outputs": [
    {
     "data": {
      "text/html": [
       "<span style=\"white-space:pre; font-family: monospace\">113 131 138 154 321 355 384 407 414\n",
       "</span>"
      ]
     },
     "execution_count": 74,
     "metadata": {},
     "output_type": "execute_result"
    }
   ],
   "source": [
    "data←⊃⎕NGET'/Users/stefan/work/dyalog/Rosalind/data/rosalind_subs.txt'1\n",
    "r←1+⊃sub⍨/data ⍝ 1-index!\n",
    "9↑r ⍝ List is long....\n",
    "assert 113 131 138 154 321 355 384 407 414≡9↑r "
   ]
  },
  {
   "cell_type": "markdown",
   "metadata": {},
   "source": [
    "## Consensus and Profile\n",
    "http://rosalind.info/problems/cons/"
   ]
  },
  {
   "cell_type": "code",
   "execution_count": 99,
   "metadata": {},
   "outputs": [
    {
     "data": {
      "text/html": [
       "<span style=\"white-space:pre; font-family: monospace\">CAAAACACGGAGAAACGCAGACGAAGCACTGTACAAAGTACTGAACAAGAGCAAATTTTTAAGCTGAAGCGAACCTAGATAGCCGTGAGGCAGACCCCCTCACAGAGAAAACATACTACAATCCATACCACGTCCGAAGAAAACCCGCAAATCTGCGTCTTGTTAGAAGCAAACAAATACGACCGAACAGATTAAGACCGTCACAACGTGAGTAACCCTGCAAGGAGAGCAACCGCTGTCACCGTCACAGAAGACTCAGAGCAAACCGCCCCGATAACCCGAATGGTAGAAACTAGTGGACTTAACTTCTGAATTACAATTTGGTCGGGAGAAAGACAGAAAACATGGTGAACCCACTCCGGCACCTGGGCCGGGCAGAACGTAATGGAAGCAGCGTACGCGTATAAATGCACAAGCAACACAGTACACATATCTCATCTCAACGGAAACGGGGTTGCAATGCTTCTTTACAAAATTCTACAGCGACATCGGAATTAACGCGGAACAGGATTGCACCAACTGACGTCCGAAGCAAGAGTGACAGGCAGACTAACAAGATTGGAAAGACCATTCGCGGTAAAAAAGTGGTGGGATGTAGGAATCGCGAATATCTCTTTGAAACAACATCGAAGTGGCCACCAAAACTACCCAAGACGCGAAGGACTCTCAAGGGCTATCAGTTCAGAAAGGCGTACCTGGCCACATTTTAGGCACCCGAAACAAAAAACCAAACACTCAAGGAGTGCCAGCCAGAATACAACATGGTTTTCTTTACATGAAAGAAAAACAACTAGCCAAGCCTAAAATAACAACTGTCTTGTTTTGCAACCACCTTCCGATAAGGAAGAGTAAGTCGATGTCCTGGTGAATTTCAACGCTTAACGCACAAAACCCGCAATACCCTAAGTCCTAGCATACACCTAAAGATAGGGCCCCCCGCATGCCGCGCAGGGTGGATCACTCGTGCAAAGACCCTTTGGTGAACGAGCAGACAACACA                                                                                                                                                                                                                                                                                                                                                                                                                                                                                                                                                                                                                                                                                                                                                                                                                                                                                                                                                                                                                                         \n",
       "A: 2 5 5 3 6 2 4 0 0 2 3 2 3 4 4 3 2 3 5 3 3 2 1 4 3 1 2 4 1 1 3 1 3 2 4 5 3 1 3 3 1 3 2 5 4 0 4 3 2 3 2 3 4 4 4 3 3 2 2 3 4 3 3 1 1 1 3 3 0 0 2 3 3 2 3 1 3 2 3 2 4 2 2 4 2 2 1 4 3 3 2 4 3 5 3 2 2 2 3 1 2 4 0 4 3 4 2 4 4 5 3 2 5 3 4 2 2 6 0 3 5 2 2 3 4 3 4 2 2 4 1 2 2 2 2 2 3 4 2 6 3 5 4 1 1 2 1 0 6 5 4 3 2 3 3 1 2 3 2 3 2 1 0 2 5 2 3 4 1 2 4 4 6 2 5 3 5 1 3 0 2 4 1 1 1 5 3 4 3 4 5 2 1 3 3 1 4 2 1 3 4 3 3 2 4 3 2 1 2 1 4 3 2 5 4 2 3 0 3 3 1 5 4 2 2 4 1 4 0 2 5 4 2 1 0 0 0 2 1 2 3 1 2 2 2 2 3 2 4 3 3 4 2 3 2 2 1 3 2 3 3 2 3 4 5 3 1 1 2 2 4 3 0 3 1 4 4 2 1 2 3 3 3 0 2 1 2 4 2 4 3 4 0 2 4 3 1 2 2 4 2 1 1 4 6 1 1 1 1 1 2 4 4 2 3 4 2 3 4 3 1 3 3 1 1 1 2 3 2 3 3 3 3 4 2 4 3 3 1 4 6 3 4 3 3 2 3 2 1 0 5 4 2 3 2 3 1 2 2 2 2 2 3 4 2 2 1 2 3 1 1 4 2 2 1 2 4 2 4 4 2 3 3 3 4 2 3 2 4 4 3 2 5 3 1 3 3 4 1 0 1 1 3 3 2 5 3 4 0 2 2 5 2 4 3 4 2 5 4 1 4 2 4 3 1 6 1 3 2 4 0 3 1 2 3 1 4 1 1 0 3 4 4 1 1 1 5 4 5 2 2 1 1 2 1 2 2 3 3 3 1 1 2 3 3 1 2 2 1 3 2 4 5 3 3 2 2 3 2 3 2 6 2 1 2 4 3 4 3 2 1 2 4 4 3 1 4 3 3 0 1 3 3 5 3 2 4 2 2 4 1 2 3 1 7 2 1 3 3 0 3 1 4 3 3 2 1 1 1 4 4 1 1 4 3 2 4 1 1 1 6 0 4 1 2 2 5 3 4 1 2 5 4 2 4 4 1 5 4 3 0 2 5 4 5 3 4 2 2 3 2 3 1 2 2 1 0 2 4 4 5 3 3 3 2 1 2 2 1 1 0 2 4 1 2 3 4 3 3 4 4 2 2 3 2 3 4 4 1 3 1 2 2 1 3 3 2 2 3 3 4 2 3 5 2 4 2 1 3 4 4 2 2 2 2 2 1 3 1 2 3 4 3 4 2 1 3 1 2 2 4 4 2 3 2 2 3 2 5 3 0 1 4 1 2 0 1 2 5 5 1 1 2 3 3 4 3 2 4 2 1 2 1 3 2 3 4 3 1 2 2 2 1 3 2 1 3 3 2 1 1 4 3 5 3 1 3 2 4 2 2 2 5 2 1 2 2 5 4 4 2 5 4 3 5 4 4 2 3 4 3 6 2 3 2 1 2 5 4 3 1 4 2 0 0 3 2 3 2 3 2 5 2 4 4 3 3 2 3 3 2 3 2 1 1 3 1 2 0 2 2 2 2 4 3 5 3 2 4 4 4 2 3 3 4 3 3 3 3 5 3 2 4 2 1 2 4 4 3 2 2 1 4 4 4 4 3 4 4 1 5 4 1 2 3 1 1 3 3 2 3 3 1 3 3 3 3 4 2 2 6 3 2 1 2 2 1 3 3 3 6 4 2 2 3 4 1 3 1 1 3 3 2 0 2 3 4 1 2 2 1 0 2 3 3 0 3 4 4 1 2 1 2 3 4 2 2 1 2 1 4 4 1 0 2 3 3 6 4 3 4 2 3 1 2 0 4 3 3 4 3 1 2 2 4 3 2 4 2 1 2 3 3 3 3 3 5 3 4 3 1 2 4 6 4 2 3 3 4 2 3 3 2 2 1 1 2 3 2 1 4 1 2 2 3 3 2 1 1 5 1 2 3 2 2 2 3 1 3 3 2 2 2 0 2 2 2 3 4 4 2 5 1 2 1 1 2 1 1 2 3 3 4 4 2 2 4 2 3 6 1 3 2 5 4 0 4 2 3\n",
       "C: 4 2 1 2 2 4 1 5 1 3 3 2 3 0 4 4 2 4 1 2 3 3 3 2 2 3 3 2 3 2 2 1 1 3 0 3 3 4 0 3 3 1 2 2 3 4 3 2 1 1 0 4 3 3 3 2 0 2 3 1 2 3 0 5 3 3 2 3 4 5 1 3 3 4 4 1 3 2 3 0 3 2 4 5 1 3 2 2 0 2 4 3 1 1 5 4 3 3 4 2 3 4 4 3 3 3 1 2 2 2 3 4 0 1 2 3 1 1 4 3 1 3 3 4 0 0 2 3 4 1 3 2 2 3 5 2 2 2 1 3 2 2 4 3 5 3 1 4 1 2 0 0 4 1 1 4 2 2 4 0 1 2 3 2 1 1 3 1 3 4 1 1 2 3 1 3 1 0 2 6 2 2 4 4 1 1 3 5 2 1 3 3 2 2 2 0 2 4 4 2 1 4 3 5 3 1 4 2 3 2 3 1 3 3 2 4 4 5 1 1 4 1 1 2 2 2 2 3 1 3 1 3 4 4 2 4 2 2 2 5 1 4 3 3 3 4 2 4 4 1 2 4 3 3 4 1 4 2 2 3 2 4 2 3 2 4 4 1 3 3 5 4 2 3 3 1 1 3 4 4 2 3 3 2 2 3 1 2 1 2 2 2 5 1 1 0 3 0 1 1 4 2 2 3 1 3 3 2 6 2 1 1 2 3 2 2 4 3 0 1 2 3 1 1 2 4 1 2 3 2 0 2 3 1 2 1 4 3 3 2 2 3 1 4 3 3 0 2 2 1 1 2 3 4 3 2 3 2 3 4 2 1 4 1 3 5 2 1 1 3 4 5 1 3 3 5 3 3 0 3 3 1 1 3 1 1 0 2 2 2 0 3 2 1 5 2 0 1 3 1 5 0 2 3 1 3 3 2 3 2 5 0 5 1 3 1 4 2 2 4 2 5 1 3 2 0 4 2 3 2 1 3 2 3 3 4 2 1 6 4 4 2 3 4 3 1 3 4 0 4 2 1 2 3 3 1 1 4 2 3 0 3 3 2 2 4 2 1 1 2 5 2 2 3 2 1 3 4 2 2 5 3 2 5 0 1 5 2 1 3 2 3 1 2 1 3 3 2 4 2 5 1 2 2 3 4 3 1 2 1 1 2 2 5 1 5 6 3 2 4 1 0 2 5 1 3 4 4 2 0 1 2 3 2 3 2 3 2 3 3 3 7 3 2 1 3 5 0 2 4 3 0 2 3 2 1 2 0 1 1 3 1 3 3 0 1 2 5 4 2 1 1 5 2 4 2 3 3 2 2 2 1 2 2 3 3 2 3 0 2 4 2 1 4 0 1 2 2 2 2 1 1 3 2 5 2 2 3 0 2 3 3 1 3 2 3 1 0 2 3 0 3 3 2 3 1 1 6 0 2 2 2 2 2 1 4 4 3 4 4 2 1 3 3 3 2 3 5 4 3 2 2 2 2 3 2 4 1 1 1 1 2 1 3 2 5 3 4 3 1 2 2 1 4 1 1 2 4 2 2 3 3 6 1 0 1 3 2 0 2 3 3 1 3 3 3 2 2 1 5 4 1 4 4 1 2 0 2 2 1 1 3 2 3 7 3 3 3 4 3 3 2 2 2 1 4 1 5 4 3 3 0 3 1 3 3 3 0 2 0 2 3 2 2 2 5 4 3 2 4 4 2 3 1 2 1 3 4 3 3 4 3 1 0 3 0 1 3 1 5 1 3 2 0 4 4 1 1 4 3 3 1 3 2 4 2 3 4 3 1 4 2 1 1 4 4 1 0 1 5 3 3 1 2 3 3 0 0 1 4 2 0 5 1 3 3 4 0 1 2 1 2 2 1 2 4 2 1 5 5 3 5 3 2 1 4 5 2 1 1 2 1 2 3 3 1 3 1 1 1 2 3 2 3 7 1 1 2 1 3 5 5 2 1 0 3 1 1 1 4 2 2 3 2 1 4 1 4 3 1 2 1 3 2 4 3 4 1 4 3 1 3 5 4 0 6 2 3 1 2 6 4 3 2 2 3 1 0 3 6 1 2 0 4 3 2 1 4 1 4 3 2 3 1 3 2 2 3 2 0 1 2 3 4 6 4 4 4 1 3 3 2 3 3 4 2 4 2 4 1 2 3 1 1 2 2 1 3 4 2 4 2 3 2 2 1 4 3 1 0 2 3 4 5 4 3 3 2 1 3 1 3 3 2 5 2 0 2 4 2 2 3 4 4 0 4 2 4 3\n",
       "G: 1 1 2 3 0 4 1 3 5 4 3 4 2 4 2 2 3 2 3 5 2 3 4 3 2 4 3 3 3 2 4 3 3 2 3 2 1 5 3 2 3 2 5 1 3 3 1 3 4 3 5 1 1 2 1 1 3 2 1 2 1 3 5 2 2 4 3 2 5 1 6 3 2 1 1 3 2 4 2 2 2 3 2 1 7 1 4 1 5 4 1 3 5 3 0 1 3 2 2 1 2 0 2 0 4 2 4 1 2 0 2 1 2 2 3 3 2 1 3 2 4 1 2 1 3 2 4 3 1 3 3 3 1 3 2 3 2 3 5 0 3 2 1 3 3 2 6 4 0 1 2 2 0 2 6 3 5 1 3 3 3 4 3 1 1 5 1 4 5 1 2 3 0 2 1 3 2 4 2 3 3 2 1 1 5 3 2 1 2 5 1 1 3 2 3 5 2 1 2 4 0 1 1 2 3 3 4 5 1 4 1 5 0 0 2 3 1 1 2 5 2 1 3 3 3 3 7 2 5 2 2 1 1 2 5 3 3 3 2 0 3 3 2 4 1 2 2 3 0 5 2 1 4 1 2 3 3 2 3 3 4 2 2 2 2 1 1 4 2 2 0 1 8 1 1 1 2 3 4 0 5 1 1 3 3 4 2 1 4 2 3 1 2 1 3 4 2 4 4 3 2 3 3 2 2 3 1 3 2 2 6 2 2 1 1 0 3 2 3 2 3 0 5 6 3 2 4 4 4 3 4 3 1 1 6 4 1 2 6 2 2 2 3 0 1 0 5 3 3 5 3 1 2 1 3 3 3 2 2 1 4 5 2 2 3 1 3 4 4 4 4 0 4 4 5 1 2 4 4 3 2 4 2 1 2 2 4 4 2 3 5 2 2 4 1 4 2 3 3 6 2 7 1 2 2 2 2 1 2 4 2 3 1 2 3 5 2 3 2 2 1 2 4 4 2 3 2 3 2 2 3 2 3 3 0 2 2 3 1 1 2 3 2 4 4 4 1 1 2 1 4 4 4 4 2 2 4 2 2 3 3 6 3 1 0 3 1 2 3 2 1 1 1 1 2 3 1 3 2 2 0 0 4 1 6 2 2 4 2 3 4 4 3 2 2 2 1 3 1 4 3 4 5 2 2 2 2 5 3 1 3 2 4 3 1 1 2 3 3 4 2 7 3 2 4 1 3 3 4 3 2 6 3 4 1 3 2 5 1 4 0 1 0 5 4 3 0 4 1 2 0 3 1 3 2 1 5 2 0 2 4 4 2 0 4 4 1 2 2 3 3 2 2 3 2 5 5 1 2 1 2 3 2 2 4 2 4 4 4 5 5 3 1 0 4 2 2 4 4 3 2 3 3 4 2 4 3 2 2 2 2 2 3 3 1 0 3 4 3 2 4 3 3 2 2 2 3 1 4 2 3 3 1 4 5 1 1 1 1 2 2 1 2 1 3 3 3 3 3 2 0 1 5 2 2 4 0 5 2 3 7 5 3 3 1 1 2 3 0 0 5 4 5 1 2 3 1 2 2 3 2 1 2 3 5 3 1 2 5 3 3 5 3 2 2 3 0 5 5 3 2 4 1 1 2 2 3 2 2 4 4 2 3 2 2 3 4 2 1 1 2 1 2 3 3 2 3 2 1 2 2 2 3 3 3 2 3 3 3 4 6 1 4 2 4 0 2 3 4 1 3 1 4 3 2 2 1 2 2 2 2 3 2 5 4 0 3 0 3 0 3 1 1 4 1 0 1 4 1 1 3 4 3 3 2 3 3 1 2 2 3 1 2 5 4 2 3 3 4 2 3 1 3 0 2 3 2 2 2 3 1 3 2 2 4 2 2 2 2 4 1 1 3 2 4 1 3 2 1 1 1 2 2 2 3 2 2 4 3 2 0 2 4 4 1 3 5 3 4 3 3 1 4 3 0 4 4 2 4 0 3 2 2 5 4 2 5 3 2 0 2 2 3 3 3 1 6 1 1 3 2 2 3 5 2 3 1 2 1 1 3 3 1 4 5 2 0 2 2 1 0 3 2 1 2 2 4 1 2 2 3 3 5 1 3 1 1 0 2 1 3 0 1 2 2 4 3 0 2 4 4 4 3 1 2 2 2 1 4 3 2 3 5 3 1 4 2 4 2 0 4 4 4 3 3 4 3 1 1 3 4 2 3 4 2 4 2 2 1 3 3 1 1 1 3 1 1 3 5 5 2 4 2 2 2 5 3 4 2 0 5 3 2 0 4 3 1 1 2\n",
       "T: 3 2 2 2 2 0 4 2 4 1 1 2 2 2 0 1 3 1 1 0 2 2 2 1 3 2 2 1 3 5 1 5 3 3 3 0 3 0 4 2 3 4 1 2 0 3 2 2 3 3 3 2 2 1 2 4 4 4 4 4 3 1 2 2 4 2 2 2 1 4 1 1 2 3 2 5 2 2 2 6 1 3 2 0 0 4 3 3 2 1 3 0 1 1 2 3 2 3 1 6 3 2 4 3 0 1 3 3 2 3 2 3 3 4 1 2 5 2 3 2 0 4 3 2 3 5 0 2 3 2 3 3 5 2 1 3 3 1 2 1 2 1 1 3 1 3 2 2 3 2 4 5 4 4 0 2 1 4 1 4 4 3 4 5 3 2 3 1 1 3 3 2 2 3 3 1 2 5 3 1 3 2 4 4 3 1 2 0 3 0 1 4 4 3 2 4 2 3 3 1 5 2 3 1 0 3 0 2 4 3 2 1 5 2 2 1 2 4 4 1 3 3 2 3 3 1 0 1 4 3 2 2 3 3 3 3 5 3 5 3 3 2 3 1 4 2 3 1 2 1 3 1 1 3 2 4 2 3 3 1 1 2 3 1 1 2 4 4 3 3 1 2 0 3 5 4 3 2 1 4 0 3 3 5 3 2 5 3 3 2 2 3 3 6 2 3 4 4 3 2 2 4 4 1 1 3 5 4 1 5 1 3 2 4 4 4 1 2 3 4 4 4 1 2 4 3 3 1 1 2 3 2 3 4 0 1 2 2 0 2 0 2 2 3 3 5 2 3 4 4 1 3 3 2 2 2 3 4 3 3 2 2 1 3 2 2 4 3 2 2 1 1 3 1 1 2 1 1 2 0 3 2 4 3 3 5 3 2 2 1 2 3 1 2 3 1 5 2 3 3 2 2 4 2 5 0 2 3 5 2 1 2 2 3 1 0 2 0 2 3 3 1 1 0 5 1 3 2 3 2 6 2 4 2 4 3 2 5 2 5 1 1 1 1 2 4 1 1 3 3 2 4 3 1 4 5 3 1 3 1 6 0 2 4 5 2 5 5 5 3 2 3 2 3 3 4 4 0 4 3 3 1 2 3 2 3 0 0 4 2 3 1 2 2 4 4 2 2 2 4 1 2 0 1 2 2 1 2 3 4 5 4 1 1 1 2 1 1 2 2 4 2 1 0 2 4 2 2 3 3 3 1 3 0 3 3 1 2 5 2 1 2 3 2 3 2 0 3 3 3 5 2 3 2 2 4 2 3 5 4 3 3 0 3 1 2 3 1 2 2 4 4 2 3 2 2 2 4 2 3 1 3 3 3 1 4 2 1 5 2 1 3 4 5 4 4 2 1 1 1 3 4 2 1 1 1 1 1 7 3 4 3 4 3 4 4 4 4 2 2 2 2 1 1 3 3 4 2 3 2 1 3 5 2 2 3 4 3 4 2 3 4 2 2 2 4 1 1 1 3 4 3 1 3 3 2 3 2 2 3 2 2 2 3 5 4 4 1 2 4 2 3 2 2 4 2 4 2 2 3 4 4 1 3 3 3 2 3 4 3 2 0 5 2 3 3 5 0 2 1 3 1 2 0 4 5 4 4 2 3 3 3 0 3 0 2 1 0 1 2 3 2 2 2 1 0 2 1 2 1 2 2 2 3 2 4 2 2 1 3 1 2 2 6 4 2 2 1 2 2 1 2 1 2 2 4 3 2 2 2 2 1 5 4 2 7 5 5 6 3 4 4 5 2 2 1 5 3 1 2 0 3 1 2 0 2 1 2 2 2 0 5 3 2 1 2 2 3 2 1 2 5 2 4 1 0 5 4 3 2 2 3 2 5 0 4 3 5 4 2 5 4 4 4 1 2 2 3 2 2 0 0 3 5 4 2 2 1 3 4 2 3 2 1 3 2 1 3 4 5 2 3 2 4 1 2 1 5 3 5 1 3 4 1 3 5 1 2 3 5 4 5 2 2 2 3 1 4 4 5 2 3 3 3 2 1 2 1 1 3 2 2 1 1 3 2 4 2 4 3 1 2 3 5 2 2 3 5 3 1 4 2 2 2 1 4 3 3 3 2 3 6 2 1 1 2 2 4 2 4 2 1 2 3 1 3 2 2 3 3 1 4 0 2 2 1 2 3 3 4 3 1 2 4 3 2 3 5 2 2 0 4 2 4 4 3 2 2 4 3 3 1 4 2 2 5 4 4 3 0 4 0 1 2 1 1 3 2 1 2 2 1 2 1 2 3 3 3 2\n",
       "</span>"
      ]
     },
     "execution_count": 99,
     "metadata": {},
     "output_type": "execute_result"
    }
   ],
   "source": [
    "(_ data) ← FASTA 'rosalind_cons.txt'\n",
    "profile ← ⍉↑(+/'ACGT'⍷⍤0 1⊢)¨↓⍉↑data\n",
    "consensus ← 'ACGT'[⊃∘⍒⍤1⊢⍉profile]\n",
    "\n",
    "⍝ Format the output as per problem description\n",
    "len ← 1⊃⍴∊⍤1⊢table ← (⍪'A: ' 'C: ' 'G: ' 'T: '),⍕profile\n",
    "(len↑consensus)⍪∊⍤1⊢table"
   ]
  },
  {
   "cell_type": "code",
   "execution_count": 100,
   "metadata": {},
   "outputs": [],
   "source": [
    "assert 'CAAAACACGGAGAAACGCAGACGAAGCA'≡28↑consensus"
   ]
  },
  {
   "cell_type": "markdown",
   "metadata": {},
   "source": [
    "## Mortal Fibonacci Rabbits\n",
    "http://rosalind.info/problems/fibd/"
   ]
  },
  {
   "cell_type": "markdown",
   "metadata": {},
   "source": [
    "## Overlap Graphs\n",
    "http://rosalind.info/problems/grph/"
   ]
  },
  {
   "cell_type": "code",
   "execution_count": 46,
   "metadata": {},
   "outputs": [
    {
     "data": {
      "text/html": [
       "<span style=\"white-space:pre; font-family: monospace\"> Rosalind_1587  Rosalind_6418 \n",
       " Rosalind_1587  Rosalind_2362 \n",
       " Rosalind_1587  Rosalind_3930 \n",
       " Rosalind_1587  Rosalind_0511 \n",
       " Rosalind_7914  Rosalind_1587 \n",
       " Rosalind_7914  Rosalind_1264 \n",
       " Rosalind_2251  Rosalind_3736 \n",
       " Rosalind_2251  Rosalind_0096 \n",
       " Rosalind_5406  Rosalind_3099 \n",
       " Rosalind_5406  Rosalind_1092 \n",
       "</span>"
      ]
     },
     "execution_count": 46,
     "metadata": {},
     "output_type": "execute_result"
    }
   ],
   "source": [
    "(key data) ← FASTA 'rosalind_grph-2.txt'\n",
    "m ← ∘.{(¯3↑⍺)≡(3↑⍵)} ⍨data\n",
    "(0 0⍉m) ← 0\n",
    "r ← (2÷⍨≢pairs) 2⍴pairs ← key[∊⍸m]\n",
    "10↑r ⍝ Just the first 10"
   ]
  },
  {
   "cell_type": "markdown",
   "metadata": {},
   "source": [
    "## Calculating Expected Offspring\n",
    "http://rosalind.info/problems/iev/"
   ]
  },
  {
   "cell_type": "markdown",
   "metadata": {},
   "source": [
    "## Finding a Shared Motif\n",
    "http://rosalind.info/problems/lcsm/\n",
    "\n",
    "All strings in the test set are of equal lengths (1000).\n",
    "\n",
    "This is a naive brute-force search, made tenable by limiting the substring length to longer than 100 and shorter than 200 letters.\n",
    "\n",
    "Note: doesn't work on 18.1-pre."
   ]
  },
  {
   "cell_type": "code",
   "execution_count": null,
   "metadata": {},
   "outputs": [],
   "source": [
    "(key data) ← FASTA 'rosalind_lcsm.txt'               \n",
    "substrings ← ⊃,/2↓(⍳∘≢,/¨⊂)⊃data         \n",
    "test←({l←≢⍵⋄(l<200)∧(l>100)}¨substrings)/substrings\n",
    "test⊃⍨⊃⍸∧/test ∘.(1∊⍷) data  ⍝ ~30s"
   ]
  },
  {
   "cell_type": "markdown",
   "metadata": {},
   "source": [
    "## Independent Alleles\n",
    "http://rosalind.info/problems/lia/"
   ]
  },
  {
   "cell_type": "markdown",
   "metadata": {},
   "source": [
    "## Finding a Protein Motif\n",
    "http://rosalind.info/problems/mprt/\n",
    "\n",
    "Note: matches may overlap. To get overlapping regex captures, use a capturing group inside a zero-width lookahead assertion. See https://stackoverflow.com/questions/5616822/python-regex-find-all-overlapping-matches"
   ]
  },
  {
   "cell_type": "code",
   "execution_count": 117,
   "metadata": {},
   "outputs": [],
   "source": [
    "data←⊃⎕NGET'/Users/stefan/work/dyalog/Rosalind/data/rosalind_mprt-2.txt'1"
   ]
  },
  {
   "cell_type": "code",
   "execution_count": 120,
   "metadata": {},
   "outputs": [],
   "source": [
    "found←⍬∘≢¨loc←{'(?=(N[^P][ST][^P]))'⎕S 0⊢⍵}¨UniProt data"
   ]
  },
  {
   "cell_type": "code",
   "execution_count": 121,
   "metadata": {},
   "outputs": [
    {
     "data": {
      "text/html": [
       "<span style=\"white-space:pre; font-family: monospace\">Was OFF\n",
       "</span>"
      ]
     },
     "execution_count": 121,
     "metadata": {},
     "output_type": "execute_result"
    },
    {
     "data": {
      "text/html": [
       "<span style=\"white-space:pre; font-family: monospace\"> P01878_ALC_MOUSE                \n",
       " 38 99 314 329                   \n",
       " Q7TMB8                          \n",
       " 209 291 328 442 607 672 831 858 \n",
       " Q07287_ZPB_PIG                  \n",
       " 70 203 220 333 474              \n",
       " P07725_CD8A_RAT                 \n",
       " 63                              \n",
       " P49286                          \n",
       " 4 130                           \n",
       " P06870_KLK1_HUMAN               \n",
       " 102 108 165                     \n",
       " P01044_KNH1_BOVIN               \n",
       " 47 87 168 169 197 204           \n",
       " P08709_FA7_HUMAN                \n",
       " 205 382                         \n",
       " P01215_GLHA_HUMAN               \n",
       " 76 102                          \n",
       " A2A2Y4                          \n",
       " 90 359 407                      \n",
       "</span>"
      ]
     },
     "execution_count": 121,
     "metadata": {},
     "output_type": "execute_result"
    }
   ],
   "source": [
    "]box off\n",
    "⍪⊃,/↓⍉↑(found/data) (1+found/loc)"
   ]
  },
  {
   "cell_type": "markdown",
   "metadata": {},
   "source": [
    "## Open Reading Frames\n",
    "http://rosalind.info/problems/orf/\n",
    "\n",
    "An open reading frame (ORF) is one which starts from the start codon and ends by stop codon, without any other stop codons in between."
   ]
  },
  {
   "cell_type": "code",
   "execution_count": 2,
   "metadata": {},
   "outputs": [],
   "source": [
    "codon←0 2 1⍉⍉4 4 4⍴'FLIVFLIVLLIVLLMVSPTASPTASPTASPTAYHNDYHND.QKE.QKECRSGCRSG.RRGWRRG'\n",
    "dna2rna←{'U'@{'T'=⍵}⊢⍵}\n",
    "revcmpl←{⊖'UAGC'['AUCG'⍳⍵]}\n",
    "orfs←{'(?=(AUG(...)*?(UAG|UAA|UGA)))'⎕S'\\1'⊢⍵}\n",
    "makeprot←{enc←0 1 2 3['UCAG'⍳¯3↓⍵]⋄⍺[⊂⍤1⊢(⌊3÷⍨≢enc)3⍴enc]}"
   ]
  },
  {
   "cell_type": "code",
   "execution_count": 13,
   "metadata": {},
   "outputs": [],
   "source": [
    "(names data)←FASTA 'rosalind_orf.txt'"
   ]
  },
  {
   "cell_type": "code",
   "execution_count": 15,
   "metadata": {},
   "outputs": [
    {
     "data": {
      "text/html": [
       "<span style=\"white-space:pre; font-family: monospace\">MFGLPKSRSTDVKA\n",
       "M\n",
       "MLGKSYSPMVHHPTRLRRI\n",
       "MVHHPTRLRRI\n",
       "MSL\n",
       "MPPLLS\n",
       "MSPINIARHSRGSSGQRLCCGSSKTSISEDDTLYHKSSSELLTGSALRPGAFNVSINRVYSRDEPNVETMCLPVPS\n",
       "MSRRCVYLYRRSLRIKCLVAVVRSHSYGSEPLQQGITIGMSSNVSTLANQRSVLDHASEFPGKVMPGGAICHAALTRSNLGWRH\n",
       "MCLPVPS\n",
       "MPCCSGSEP\n",
       "MAPNHCNKA\n",
       "MSSNVSTLANQRSVLDHASEFPGKVMPGGAICHAALTRSNLGWRH\n",
       "MRPNSQVR\n",
       "MPGGAICHAALTRSNLGWRH\n",
       "MLPSQDPI\n",
       "MAPLKNLARARYKYCAMYRRKASVLESAQITSTTVVIRYARNRPSKILTK\n",
       "MYRRKASVLESAQITSTTVVIRYARNRPSKILTK\n",
       "MCLEAALRVRATAKMARDRVSYNNLFSKDFGWTISRVPYHNSCGSNLGAFENRGLTPVHCAIFISCASQIF\n",
       "MARDRVSYNNLFSKDFGWTISRVPYHNSCGSNLGAFENRGLTPVHCAIFISCASQIF\n",
       "MDDFSRTLSQQLWK\n",
       "MAPS\n",
       "MTDRPTGHHLTWEFGRMVENAALIG\n",
       "MVENAALIG\n",
       "MAPNHCNKAFYAQTTTVQVDTSSRH\n",
       "MRRLRRYR\n",
       "MLTLNAPGLKADPVRSSEEDL\n",
       "MLMGLMIKVGAYAGV\n",
       "MGLMIKVGAYAGV\n",
       "MIKVGAYAGV\n",
       "MPEYEVAS\n",
       "MKWRLNVTSSYTPQARRVVYHWRVALP\n",
       "MLQAHIRRRRVGWCTIGE\n",
       "</span>"
      ]
     },
     "execution_count": 15,
     "metadata": {},
     "output_type": "execute_result"
    }
   ],
   "source": [
    "r1←dna2rna (⊃data)\n",
    "r2←revcmpl r1\n",
    "s1←orfs r1\n",
    "s2←orfs r2\n",
    "r←∪codon∘makeprot¨ s1,s2\n",
    "{⎕←⍵}¨r"
   ]
  },
  {
   "cell_type": "markdown",
   "metadata": {},
   "source": [
    "## Enumerating Gene Orders\n",
    "http://rosalind.info/problems/perm/"
   ]
  },
  {
   "cell_type": "code",
   "execution_count": 21,
   "metadata": {},
   "outputs": [
    {
     "data": {
      "text/html": [
       "<span style=\"white-space:pre; font-family: monospace\">24\n",
       "1 2 3 4\n",
       "1 2 4 3\n",
       "1 3 2 4\n",
       "1 3 4 2\n",
       "1 4 2 3\n",
       "1 4 3 2\n",
       "2 1 3 4\n",
       "2 1 4 3\n",
       "2 3 1 4\n",
       "2 3 4 1\n",
       "2 4 1 3\n",
       "2 4 3 1\n",
       "3 1 2 4\n",
       "3 1 4 2\n",
       "3 2 1 4\n",
       "3 2 4 1\n",
       "3 4 1 2\n",
       "3 4 2 1\n",
       "4 1 2 3\n",
       "4 1 3 2\n",
       "4 2 1 3\n",
       "4 2 3 1\n",
       "4 3 1 2\n",
       "4 3 2 1\n",
       "</span>"
      ]
     },
     "execution_count": 21,
     "metadata": {},
     "output_type": "execute_result"
    }
   ],
   "source": [
    "⎕IO←1\n",
    "pmat←{1≥⍴⍵:↑,↓⍵⋄↑⍪/⍵,∘∇¨⍵∘~¨⍵} ⍝ From dfns: pmat ⍳X\n",
    "data ← 4\n",
    "m←pmat ⍳data\n",
    "{⎕←≢⍵⋄⎕←⍵}m"
   ]
  },
  {
   "cell_type": "markdown",
   "metadata": {},
   "source": [
    "## Calculating Protein Mass\n",
    "http://rosalind.info/problems/prtm/"
   ]
  },
  {
   "cell_type": "code",
   "execution_count": 36,
   "metadata": {},
   "outputs": [],
   "source": [
    "data ← ⊃⎕NGET'/Users/stefan/work/dyalog/Rosalind/data/rosalind_prtm.txt'1\n",
    "mmt←71.03711 0.0 103.00919 115.02694 129.04259 147.06841 57.02146 137.05891 113.08406 0.0 128.09496 113.08406 131.04049 114.04293 0.0 97.05276 128.05858 156.10111 87.03203 101.04768 0.0 99.06841 186.07931 0.0 163.06333  0.0"
   ]
  },
  {
   "cell_type": "code",
   "execution_count": 40,
   "metadata": {},
   "outputs": [
    {
     "data": {
      "text/html": [
       "<span style=\"white-space:pre; font-family: monospace\">105638.74\n",
       "</span>"
      ]
     },
     "execution_count": 40,
     "metadata": {},
     "output_type": "execute_result"
    }
   ],
   "source": [
    "assert 105638.74=⎕←⍎3⍕+/mmt[⎕A⍳⊃data]"
   ]
  },
  {
   "cell_type": "markdown",
   "metadata": {},
   "source": [
    "## Locating Restriction Sites\n",
    "http://rosalind.info/problems/revp/\n",
    "\n",
    "We seek the position and length of every reverse palindrome in the string having length between 4 and 12. A reverse palindrome means a substring equal to its reverse complement. "
   ]
  },
  {
   "cell_type": "code",
   "execution_count": 88,
   "metadata": {},
   "outputs": [
    {
     "data": {
      "text/html": [
       "<span style=\"white-space:pre; font-family: monospace\">Was OFF\n",
       "</span>"
      ]
     },
     "execution_count": 88,
     "metadata": {},
     "output_type": "execute_result"
    },
    {
     "data": {
      "text/html": [
       "<span style=\"white-space:pre; font-family: monospace\">  1 4\n",
       "  2 4\n",
       " 24 4\n",
       " 36 4\n",
       " 51 4\n",
       " 53 4\n",
       " 60 4\n",
       " 83 4\n",
       " 84 4\n",
       "130 4\n",
       "152 4\n",
       "172 4\n",
       "192 4\n",
       "231 4\n",
       "235 4\n",
       "248 4\n",
       "268 4\n",
       "275 4\n",
       "312 4\n",
       "322 4\n",
       "334 4\n",
       "372 4\n",
       "383 4\n",
       "408 4\n",
       "414 4\n",
       "465 4\n",
       "472 4\n",
       "485 4\n",
       "510 4\n",
       "521 4\n",
       "540 4\n",
       "568 4\n",
       "595 4\n",
       "603 4\n",
       "626 4\n",
       "634 4\n",
       "646 4\n",
       "650 4\n",
       "653 4\n",
       "666 4\n",
       "670 4\n",
       "680 4\n",
       "698 4\n",
       "723 4\n",
       "741 4\n",
       "771 4\n",
       "785 4\n",
       "790 4\n",
       "800 4\n",
       "807 4\n",
       "809 4\n",
       "846 4\n",
       "851 4\n",
       "856 4\n",
       "867 4\n",
       "868 4\n",
       "869 4\n",
       "879 4\n",
       "880 4\n",
       "885 4\n",
       "893 4\n",
       "915 4\n",
       "928 4\n",
       "929 4\n",
       " 23 6\n",
       " 35 6\n",
       " 50 6\n",
       " 52 6\n",
       " 59 6\n",
       "129 6\n",
       "230 6\n",
       "311 6\n",
       "333 6\n",
       "371 6\n",
       "413 6\n",
       "464 6\n",
       "471 6\n",
       "649 6\n",
       "697 6\n",
       "789 6\n",
       "867 6\n",
       "310 8\n",
       "370 8\n",
       "463 8\n",
       "696 8\n",
       "788 8\n",
       "866 8\n",
       "462 10\n",
       "461 12\n",
       "</span>"
      ]
     },
     "execution_count": 88,
     "metadata": {},
     "output_type": "execute_result"
    }
   ],
   "source": [
    "⎕IO←1\n",
    "]box off\n",
    "(names data)←FASTA 'rosalind_revp.txt'\n",
    "dna←⊃data\n",
    "A←↓⌿↑(-¯1+⍳≢a) (a←↓(3+⍳9),/⍤0 1⊢dna)                     ⍝ Substrings of increasing lengths\n",
    "B←↓⌿↑(¯1+⍳≢b) (b←↓⌽(3+⍳9),/⍤0 1⊢{⊖'TAGC'['ATCG'⍳⍵]} dna) ⍝ Substrings of increasing lengths, reverse \n",
    "tab←,[0.5]⌿↑A B                                          ⍝ Line up\n",
    "{⍬≢⍺:⎕←⍺,⍤0 0⊢⍵}⌿↑(⍸¨≡⌿¨tab) (3+⍳9)                      ⍝ Match, find locations, print"
   ]
  },
  {
   "cell_type": "markdown",
   "metadata": {},
   "source": [
    "## RNA Splicing\n",
    "http://rosalind.info/problems/splc/\n",
    "Remove the intron strings, and transcribe the remainder. Regex job."
   ]
  },
  {
   "cell_type": "code",
   "execution_count": 94,
   "metadata": {},
   "outputs": [
    {
     "data": {
      "text/html": [
       "<span style=\"white-space:pre; font-family: monospace\">MAPVACRAVHKSPLAGSCELTTLDLRNDTKEVPTSSTSLKPYSLAAQRRISARSHFYDYFYEYLPPLYGRPKLASGANDTLNRSTHKHCLIGELEAGYHRNSQVIYVRSSCRTLTLDLFAVPFPISMMLILITWNVNIARRRRARYMTAVVGYETSFLGKFLQFTLSYPRRWLAMTEESTDLPFANLGS\n",
       "</span>"
      ]
     },
     "execution_count": 94,
     "metadata": {},
     "output_type": "execute_result"
    }
   ],
   "source": [
    "⎕IO←0\n",
    "makeprot←{enc←0 1 2 3['TCAG'⍳¯3↓⍵]⋄⍺[⊂⍤1⊢(⌊3÷⍨≢enc)3⍴enc]}\n",
    "codon←0 2 1⍉⍉4 4 4⍴'FLIVFLIVLLIVLLMVSPTASPTASPTASPTAYHNDYHND.QKE.QKECRSGCRSG.RRGWRRG'\n",
    "(_ data)←FASTA 'rosalind_splc.txt'\n",
    "codon makeprot (1↓data)⎕R''⊢⊃data"
   ]
  },
  {
   "cell_type": "markdown",
   "metadata": {},
   "source": [
    "## Enumerating k-mers Lexicographically\n",
    "http://rosalind.info/problems/lexf/"
   ]
  },
  {
   "cell_type": "code",
   "execution_count": 106,
   "metadata": {},
   "outputs": [
    {
     "data": {
      "text/html": [
       "<span style=\"white-space:pre; font-family: monospace\">AA\n",
       "AC\n",
       "AG\n",
       "AT\n",
       "CA\n",
       "CC\n",
       "CG\n",
       "CT\n",
       "GA\n",
       "GC\n",
       "GG\n",
       "GT\n",
       "TA\n",
       "TC\n",
       "TG\n",
       "TT\n",
       "</span>"
      ]
     },
     "execution_count": 106,
     "metadata": {},
     "output_type": "execute_result"
    }
   ],
   "source": [
    "data←⊃⎕NGET'/Users/stefan/work/dyalog/Rosalind/data/rosalind_lexf.txt'1\n",
    "string←'\\s+'⎕R''⊢⊃data\n",
    "len←⍎⊃1↓data\n",
    "\n",
    "⍝ Shorter example - comment out to run on a real data set\n",
    "string←'ACGT'\n",
    "len←2\n",
    "⍝ ---------------\n",
    "\n",
    "{⎕←⍵}¨,∘.,⍣(¯1+len)⍨string"
   ]
  },
  {
   "cell_type": "markdown",
   "metadata": {},
   "source": [
    "## Longest Increasing Subsequence\n",
    "http://rosalind.info/problems/lgis/\n",
    "\n",
    "\n",
    "Here's a tradop implementation of Wikipedia's [pseudocode](https://en.wikipedia.org/wiki/Longest_increasing_subsequence) -- not very \"array\", sadly."
   ]
  },
  {
   "cell_type": "code",
   "execution_count": 2,
   "metadata": {},
   "outputs": [],
   "source": [
    "∇ S←(cmp lss) X;N;P;M;L;i;lo;hi;mid;newL;k\n",
    "⍝ https://en.wikipedia.org/wiki/Longest_increasing_subsequence\n",
    "N←≢X\n",
    "P←N↑¯1\n",
    "M←(N+1)↑¯1\n",
    "L←0\n",
    ":for i :in ⍳N\n",
    "    (lo hi)←1 L\n",
    "    :while lo≤hi\n",
    "        mid←⌈(lo+hi)÷2\n",
    "        :if X[M[mid]] cmp X[i]\n",
    "            lo←mid+1\n",
    "        :else\n",
    "            hi←mid-1\n",
    "        :endif\n",
    "    :endwhile\n",
    "    newL←lo\n",
    "    P[i]←M[newL-1]\n",
    "    M[newL]←i\n",
    "    :if newL>L\n",
    "        L←newL\n",
    "    :endif\n",
    ":endfor\n",
    "S←L↑0\n",
    "k←M[L]\n",
    ":for i :in ⊖⍳L\n",
    "    S[i]←X[k]\n",
    "    k←P[k]\n",
    ":endfor\n",
    "∇"
   ]
  },
  {
   "cell_type": "code",
   "execution_count": 8,
   "metadata": {},
   "outputs": [
    {
     "data": {
      "text/html": [
       "<span style=\"white-space:pre; font-family: monospace\">Was OFF\n",
       "</span>"
      ]
     },
     "execution_count": 8,
     "metadata": {},
     "output_type": "execute_result"
    },
    {
     "data": {
      "text/html": [
       "<span style=\"white-space:pre; font-family: monospace\">19 66 171 217 232 320 329 339 464 500\n",
       "8790 8779 8682 8663 8636 8626 8611 8606 8522 8407\n",
       "</span>"
      ]
     },
     "execution_count": 8,
     "metadata": {},
     "output_type": "execute_result"
    }
   ],
   "source": [
    "data←⊃⎕NGET'/Users/stefan/work/dyalog/Rosalind/data/rosalind_lgis.txt'1\n",
    "seq←⍎1⊃data\n",
    "]box off\n",
    "10{⍺←0⋄⎕←⍺↑<lss ⍵⋄⎕←⍺↑>lss ⍵}seq  ⍝ NOTE: LONG RESULT; TRUNCATED FOR SPACE "
   ]
  },
  {
   "cell_type": "markdown",
   "metadata": {},
   "source": [
    "## Genome Assembly as Shortest Superstring\n",
    "http://rosalind.info/problems/long/\n",
    "\n",
    "The dataset is guaranteed to satisfy the following condition: there exists a unique way to reconstruct the entire chromosome from these reads by gluing together pairs of reads that overlap by more than half their length.\n",
    "\n",
    "It was quite hard to understand the intent here -- it does NOT mean pair up, then pair up the pairs etc. It means find a pair - then try to pair this with one of the remaining items.\n",
    "\n",
    "Not a great solution. "
   ]
  },
  {
   "cell_type": "code",
   "execution_count": 30,
   "metadata": {},
   "outputs": [],
   "source": [
    "(_ data)←FASTA 'rosalind_long-1.txt'"
   ]
  },
  {
   "cell_type": "code",
   "execution_count": 31,
   "metadata": {},
   "outputs": [],
   "source": [
    "]dinput\n",
    "glue←{\n",
    "    g←{\n",
    "        ⍺≡⍵:⍬\n",
    "        m←⍸≡⌿↑(⌽¨,\\⌽⍺) (p←,\\⍵) ⍝ Perhaps overly inefficient\n",
    "        ⍬≡m:⍬                  ⍝ No shared\n",
    "        s←≢p⊃⍨⊢/m              ⍝ Length of longest shared segment\n",
    "        s≤2÷⍨⍺⌊⍥≢⍵:⍬           ⍝ Shared is less than or equal to half shortest ⍺ ⍵\n",
    "        ⍺,s↓⍵\n",
    "    }\n",
    "    (a b)←(⍺g⍵)(⍵g⍺)           ⍝ Try matching both ways\n",
    "    (⍬ ⍬)≡a b:⍬                ⍝ No match, either way\n",
    "    ⍬≡a:b⋄⍬≡b:a                ⍝ One matches\n",
    "    a<⍥≢b:a⋄b                  ⍝ Both matches; pick shortest\n",
    "}"
   ]
  },
  {
   "cell_type": "code",
   "execution_count": 32,
   "metadata": {},
   "outputs": [],
   "source": [
    "]dinput\n",
    "long←{\n",
    "    0=≢⍵:⍺\n",
    "    v←⍸⍬∘≢¨r←⍺∘glue¨⍵\n",
    "    ⍬≡v:1÷0\n",
    "    (r⊃⍨⊃v)∇⍵~⍵⌷⍨⊃v\n",
    "}"
   ]
  },
  {
   "cell_type": "code",
   "execution_count": 33,
   "metadata": {},
   "outputs": [
    {
     "data": {
      "text/html": [
       "<span style=\"white-space:pre; font-family: monospace\">┌→─────────────────────────────────────────────────┐\n",
       "│AAGTCGATGTAAAACGGGGGGGGGGGGGGCGGCAAACGCACTTGATACCA│\n",
       "└──────────────────────────────────────────────────┘\n",
       "</span>"
      ]
     },
     "execution_count": 33,
     "metadata": {},
     "output_type": "execute_result"
    }
   ],
   "source": [
    "join←(⊃data)long 1↓data        ⍝ Around 5s\n",
    "50↑join ⍝ NOTE: very long (~18k)"
   ]
  },
  {
   "cell_type": "markdown",
   "metadata": {},
   "source": [
    "## Perfect Matchings and RNA Secondary Structures\n",
    "http://rosalind.info/problems/pmch/"
   ]
  },
  {
   "cell_type": "code",
   "execution_count": 42,
   "metadata": {},
   "outputs": [
    {
     "data": {
      "text/html": [
       "<span style=\"white-space:pre; font-family: monospace\">                                \n",
       "2.351723106124997067993513984E34\n",
       "                                \n",
       "</span>"
      ]
     },
     "execution_count": 42,
     "metadata": {},
     "output_type": "execute_result"
    }
   ],
   "source": [
    "×/!+/'AC'=⍤0 1⊢'UGCGGGACGCGUCAAGUACCGCGUGCGGACCACCAACCUCUCCCAAAUUUUGUGUAUCCGUGGCGGGCGAUUAAAG'"
   ]
  },
  {
   "cell_type": "markdown",
   "metadata": {},
   "source": [
    "Sadly, Dyalog's lack of bignums makes this annoying. Here's a python version:"
   ]
  },
  {
   "cell_type": "markdown",
   "metadata": {},
   "source": [
    "```python\n",
    "from collections import Counter\n",
    "from math import factorial\n",
    "\n",
    "seq='UGCGGGACGCGUCAAGUACCGCGUGCGGACCACCAACCUCUCCCAAAUUUUGUGUAUCCGUGGCGGGCGAUUAAAG'\n",
    "counts = Counter(seq)\n",
    "factorial(counts[\"A\"])*factorial(counts[\"C\"])\n",
    ">>>> 23517231061249970679935139840000000\n",
    "```"
   ]
  },
  {
   "cell_type": "markdown",
   "metadata": {},
   "source": [
    "It _can_ be done, using the `big` operator from the `dfns` ws:"
   ]
  },
  {
   "cell_type": "code",
   "execution_count": 43,
   "metadata": {},
   "outputs": [
    {
     "data": {
      "text/html": [
       "<span style=\"white-space:pre; font-family: monospace\">┌→──────────────────────────────────┐\n",
       "│23517231061249970679935139840000000│\n",
       "└───────────────────────────────────┘\n",
       "</span>"
      ]
     },
     "execution_count": 43,
     "metadata": {},
     "output_type": "execute_result"
    }
   ],
   "source": [
    "⎕FR←1287 ⍝ As big as it'll go!\n",
    "⎕PP←34\n",
    "'big'⎕CY'dfns' ⍝ Even with ⎕FR←1287 the last product needs to use `×big`\n",
    "\n",
    "⊃×big/!+/'AC'=⍤0 1⊢'UGCGGGACGCGUCAAGUACCGCGUGCGGACCACCAACCUCUCCCAAAUUUUGUGUAUCCGUGGCGGGCGAUUAAAG'"
   ]
  },
  {
   "cell_type": "markdown",
   "metadata": {},
   "source": [
    "## Partial Permutations\n",
    "http://rosalind.info/problems/pper/\n",
    "\n",
    "The number of ways we can pick k items from a set size n is:\n",
    "\n",
    "    n!/(n−k)!"
   ]
  },
  {
   "cell_type": "code",
   "execution_count": 47,
   "metadata": {},
   "outputs": [
    {
     "data": {
      "text/html": [
       "<span style=\"white-space:pre; font-family: monospace\">     \n",
       "51200\n",
       "     \n",
       "</span>"
      ]
     },
     "execution_count": 47,
     "metadata": {},
     "output_type": "execute_result"
    }
   ],
   "source": [
    "n←21\n",
    "k←7\n",
    "1000000|k(!×∘!⊣)n"
   ]
  },
  {
   "cell_type": "markdown",
   "metadata": {},
   "source": [
    "The Rosalind page for this problem doesn't seem to offer a competition data set."
   ]
  },
  {
   "cell_type": "markdown",
   "metadata": {},
   "source": [
    "## Enumerating Oriented Gene Orderings\n",
    "http://rosalind.info/problems/sign/"
   ]
  },
  {
   "cell_type": "code",
   "execution_count": 74,
   "metadata": {},
   "outputs": [
    {
     "data": {
      "text/html": [
       "<span style=\"white-space:pre; font-family: monospace\">Was ON -style=min\n",
       "</span>"
      ]
     },
     "execution_count": 74,
     "metadata": {},
     "output_type": "execute_result"
    },
    {
     "data": {
      "text/html": [
       "<span style=\"white-space:pre; font-family: monospace\">48\n",
       "1 2 -3  \n",
       "1 -3 2  \n",
       "2 1 -3  \n",
       "2 -3 1  \n",
       "-3 1 2  \n",
       "-3 2 1  \n",
       "1 -2 3  \n",
       "1 3 -2  \n",
       "-2 1 3  \n",
       "-2 3 1  \n",
       "3 1 -2  \n",
       "3 -2 1  \n",
       "1 -2 -3 \n",
       "1 -3 -2 \n",
       "-2 1 -3 \n",
       "-2 -3 1 \n",
       "-3 1 -2 \n",
       "-3 -2 1 \n",
       "-1 2 3  \n",
       "-1 3 2  \n",
       "2 -1 3  \n",
       "2 3 -1  \n",
       "3 -1 2  \n",
       "3 2 -1  \n",
       "-1 2 -3 \n",
       "-1 -3 2 \n",
       "2 -1 -3 \n",
       "2 -3 -1 \n",
       "-3 -1 2 \n",
       "-3 2 -1 \n",
       "-1 -2 3 \n",
       "-1 3 -2 \n",
       "-2 -1 3 \n",
       "-2 3 -1 \n",
       "3 -1 -2 \n",
       "3 -2 -1 \n",
       "-1 -2 -3\n",
       "-1 -3 -2\n",
       "-2 -1 -3\n",
       "-2 -3 -1\n",
       "-3 -1 -2\n",
       "-3 -2 -1\n",
       "1 2 3   \n",
       "1 3 2   \n",
       "2 1 3   \n",
       "2 3 1   \n",
       "3 1 2   \n",
       "3 2 1   \n",
       "</span>"
      ]
     },
     "execution_count": 74,
     "metadata": {},
     "output_type": "execute_result"
    }
   ],
   "source": [
    "⎕IO←1\n",
    "]box on -s=min\n",
    "\n",
    "n←3\n",
    "neg←1(⊢+⊣×0=⊢)-1↓⍤1 {⍉2∘⊥⍣¯1⍳2*⍵}n ⍝ All bit patterns of n bits, turn 1 to ¯1 and 0 to 1\n",
    "sigp←↑,,/(⊂pmat n)⌷⍤1⊢neg×⍤1 1⊢⍳n  ⍝ For every possible negation of ⍳n, pick the permutations\n",
    "{⎕←print ≢⍵⋄⎕←print ⍵}sigp         ⍝ Format for output\n",
    "\n",
    "⍝ For n>3, write to a file\n",
    "⍝(⍕≢sigp) ⎕NPUT '/Users/stefan/ros.txt'1\n",
    "⍝(sigp ⎕CSV⍠'Separator' ' '⊢'')⎕NPUT '/Users/stefan/ros.txt'2"
   ]
  },
  {
   "cell_type": "markdown",
   "metadata": {},
   "source": [
    "## Finding a Spliced Motif\n",
    "http://rosalind.info/problems/sseq/"
   ]
  },
  {
   "cell_type": "code",
   "execution_count": null,
   "metadata": {},
   "outputs": [],
   "source": []
  }
 ],
 "metadata": {
  "kernelspec": {
   "display_name": "Dyalog APL",
   "language": "apl",
   "name": "dyalog-kernel"
  },
  "language_info": {
   "file_extension": ".apl",
   "mimetype": "text/apl",
   "name": "APL"
  }
 },
 "nbformat": 4,
 "nbformat_minor": 4
}
