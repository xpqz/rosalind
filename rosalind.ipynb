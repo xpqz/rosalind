{
 "cells": [
  {
   "cell_type": "markdown",
   "metadata": {},
   "source": [
    "# Project Rosalind\n",
    "\n",
    "Project [Rosalind](http://rosalind.info/problems/list-view/) solutions in Dyalog APL.\n",
    "\n",
    "By Stefan Kruger"
   ]
  },
  {
   "cell_type": "code",
   "execution_count": 28,
   "metadata": {},
   "outputs": [
    {
     "data": {
      "text/html": [
       "<span style=\"white-space:pre; font-family: monospace\">┌→────────────────┐\n",
       "│Was ON -style=max│\n",
       "└─────────────────┘\n",
       "</span>"
      ]
     },
     "execution_count": 28,
     "metadata": {},
     "output_type": "execute_result"
    },
    {
     "data": {
      "text/html": [
       "<span style=\"white-space:pre; font-family: monospace\">┌→─────┐\n",
       "│Was ON│\n",
       "└──────┘\n",
       "</span>"
      ]
     },
     "execution_count": 28,
     "metadata": {},
     "output_type": "execute_result"
    }
   ],
   "source": [
    "⎕IO←0    ⍝ Index origin 0\n",
    "⎕PP←34   ⍝ Numeric print precision\n",
    "⎕FR←1287 ⍝ IEEE 754-2008 128-bit decimal floating-point operations\n",
    "]box on -s=max\n",
    "]rows on\n",
    "hc←⎕SE.SALT.Load'HttpCommand'\n",
    "'pmat'⎕CY'dfns'"
   ]
  },
  {
   "cell_type": "markdown",
   "metadata": {},
   "source": [
    "Some utility routines"
   ]
  },
  {
   "cell_type": "code",
   "execution_count": 29,
   "metadata": {},
   "outputs": [],
   "source": [
    "file←{⊃⎕NGET('/Users/stefan/work/notebooks/rosalind/data/',⍵)1}"
   ]
  },
  {
   "cell_type": "code",
   "execution_count": 30,
   "metadata": {},
   "outputs": [],
   "source": [
    "assert←{⍺←'assertion failure' ⋄ 0∊⍵:⍺ ⎕signal 8 ⋄ shy←0}\n",
    "print←'¯'⎕R'-'⍤⍕⍤1⊢"
   ]
  },
  {
   "cell_type": "code",
   "execution_count": 31,
   "metadata": {},
   "outputs": [],
   "source": [
    "]dinput\n",
    "FASTA←{ ⍝ Read a DNA, RNA or protein string in the FASTA format\n",
    "    file ← '/Users/stefan/work/notebooks/rosalind/data/',⍵\n",
    "    flat ← (∊'>'=d)⊂∊d←⊃⎕NGET file 1\n",
    "    names ← ⊃¨'^>(Rosalind_\\d+)'⎕S'\\1'¨flat\n",
    "    names ('^>Rosalind_\\d+'⎕R''¨flat)\n",
    "}"
   ]
  },
  {
   "cell_type": "code",
   "execution_count": 32,
   "metadata": {},
   "outputs": [],
   "source": [
    "]dinput\n",
    "FASTA2←{ ⍝ Read a DNA, RNA or protein string in the FASTA format\n",
    "    dd←file⍵\n",
    "    n←⎕NS⍬\n",
    "    n.(names strings)←⍬⍬\n",
    "    _←{n.names,←⊂⊃⍵⋄n.strings,←,/1↓⍵⋄⍬}¨dd⊂⍨'>'∘=⊃¨dd\n",
    "    n.names←1∘↓¨n.names\n",
    "    n\n",
    "}"
   ]
  },
  {
   "cell_type": "code",
   "execution_count": 37,
   "metadata": {},
   "outputs": [],
   "source": [
    "]dinput\n",
    "UniProt←{ ⍝ Fetch a protein definition by uniprot_id\n",
    "    keys←,⊆⍵\n",
    "    urls←(⊂'https://www.uniprot.org/uniprot/')∘.,keys∘.,⊂'.fasta'\n",
    "    r←hc.Get¨urls\n",
    "    {'\\n'⎕R''⍠('Mode' 'D')('DotAll' 1)⊢⊃,/(⎕UCS 10)(=⊂⊢)⍵}¨r.Data\n",
    "}"
   ]
  },
  {
   "cell_type": "code",
   "execution_count": 5,
   "metadata": {},
   "outputs": [],
   "source": [
    "compl_dna←{'TAGC'['ATCG'⍳⍵]}\n",
    "rc←⊖∘compl_dna"
   ]
  },
  {
   "cell_type": "markdown",
   "metadata": {},
   "source": [
    "## Transcribing DNA into RNA\n",
    "http://rosalind.info/problems/rna/"
   ]
  },
  {
   "cell_type": "code",
   "execution_count": 215,
   "metadata": {},
   "outputs": [],
   "source": [
    "rna ← 'U'@('T'∘=) ⍝ T becomes U"
   ]
  },
  {
   "cell_type": "code",
   "execution_count": 217,
   "metadata": {},
   "outputs": [
    {
     "data": {
      "text/html": [
       "<span style=\"white-space:pre; font-family: monospace\">GAUGGAACUUGACUACGUAAAUU\n",
       "</span>"
      ]
     },
     "execution_count": 217,
     "metadata": {},
     "output_type": "execute_result"
    }
   ],
   "source": [
    "assert 'GAUGGAACUUGACUACGUAAAUU'≡⎕←rna 'GATGGAACTTGACTACGTAAATT'"
   ]
  },
  {
   "cell_type": "markdown",
   "metadata": {},
   "source": [
    "## Complementing a Strand of DNA\n",
    "\n",
    "http://rosalind.info/problems/revc/"
   ]
  },
  {
   "cell_type": "code",
   "execution_count": 218,
   "metadata": {},
   "outputs": [],
   "source": [
    "revc←{'TAGC'['ATCG'⍳⍵]}"
   ]
  },
  {
   "cell_type": "code",
   "execution_count": 219,
   "metadata": {},
   "outputs": [
    {
     "data": {
      "text/html": [
       "<span style=\"white-space:pre; font-family: monospace\">TTTTGGGCCA\n",
       "</span>"
      ]
     },
     "execution_count": 219,
     "metadata": {},
     "output_type": "execute_result"
    }
   ],
   "source": [
    "assert 'TTTTGGGCCA'≡⎕←revc 'AAAACCCGGT'"
   ]
  },
  {
   "cell_type": "markdown",
   "metadata": {},
   "source": [
    "## Rabbits and Recurrence Relations\n",
    "http://rosalind.info/problems/fib/"
   ]
  },
  {
   "cell_type": "code",
   "execution_count": 220,
   "metadata": {},
   "outputs": [],
   "source": [
    "fib←{g←⍺⋄{⍺←0 1⋄⍵=0:⊃⍺⋄(1↓⍺,⍺[1]+g×⍺[0])∇⍵-1}⍵}"
   ]
  },
  {
   "cell_type": "code",
   "execution_count": 221,
   "metadata": {},
   "outputs": [
    {
     "data": {
      "text/html": [
       "<span style=\"white-space:pre; font-family: monospace\">19\n",
       "</span>"
      ]
     },
     "execution_count": 221,
     "metadata": {},
     "output_type": "execute_result"
    },
    {
     "data": {
      "text/html": [
       "<span style=\"white-space:pre; font-family: monospace\">14415648500221\n",
       "</span>"
      ]
     },
     "execution_count": 221,
     "metadata": {},
     "output_type": "execute_result"
    }
   ],
   "source": [
    "assert 19=⎕←3 fib 5\n",
    "assert 14415648500221=⎕←5 fib 31"
   ]
  },
  {
   "cell_type": "markdown",
   "metadata": {},
   "source": [
    "## Computing GC Content\n",
    "http://rosalind.info/problems/gc/"
   ]
  },
  {
   "cell_type": "code",
   "execution_count": 204,
   "metadata": {},
   "outputs": [
    {
     "data": {
      "text/html": [
       "<span style=\"white-space:pre; font-family: monospace\"> Rosalind_7042  50.9933775\n",
       "</span>"
      ]
     },
     "execution_count": 204,
     "metadata": {},
     "output_type": "execute_result"
    }
   ],
   "source": [
    "n←FASTA2'rosalind_gc.txt'\n",
    "gc←⍎7⍕100×(≢⍤⊢÷⍨+/⍤∊∘'GC')¨n.strings\n",
    "(⊃⍒gc)⊃¨n.names gc"
   ]
  },
  {
   "cell_type": "markdown",
   "metadata": {},
   "source": [
    "## Counting Point Mutations\n",
    "http://rosalind.info/problems/hamm/"
   ]
  },
  {
   "cell_type": "code",
   "execution_count": 222,
   "metadata": {},
   "outputs": [
    {
     "data": {
      "text/html": [
       "<span style=\"white-space:pre; font-family: monospace\">469\n",
       "</span>"
      ]
     },
     "execution_count": 222,
     "metadata": {},
     "output_type": "execute_result"
    }
   ],
   "source": [
    "assert 469=⎕←+/≠⌿↑file'rosalind_hamm.txt'"
   ]
  },
  {
   "cell_type": "markdown",
   "metadata": {},
   "source": [
    "## Mendel's First Law\n",
    "http://rosalind.info/problems/iprb/\n",
    "\n",
    "Some maths I can't take credit for."
   ]
  },
  {
   "cell_type": "code",
   "execution_count": 135,
   "metadata": {},
   "outputs": [],
   "source": [
    "]dinput\n",
    "iprb←{\n",
    "    (k m n)←⍵\n",
    "    pop←+/⍵ ⋄ mp←m÷pop ⋄ np←n÷pop\n",
    "    dom←k÷pop                                             ⍝ Homozygous dominant first\n",
    "    het←(mp×k÷pop-1)+(mp×0.75×(m-1)÷pop-1)+mp×0.5×n÷pop-1 ⍝ Heterozygous first\n",
    "    rec←(np×k÷pop-1)+np×0.5×m÷pop-1                       ⍝ Recessive first\n",
    "    dom+het+rec\n",
    "}"
   ]
  },
  {
   "cell_type": "code",
   "execution_count": 136,
   "metadata": {},
   "outputs": [
    {
     "data": {
      "text/html": [
       "<span style=\"white-space:pre; font-family: monospace\">                                    \n",
       "0.7833333333333333333333333333333333\n",
       "                                    \n",
       "</span>"
      ]
     },
     "execution_count": 136,
     "metadata": {},
     "output_type": "execute_result"
    },
    {
     "data": {
      "text/html": [
       "<span style=\"white-space:pre; font-family: monospace\">                                   \n",
       "0.727982590885816692268305171530978\n",
       "                                   \n",
       "</span>"
      ]
     },
     "execution_count": 136,
     "metadata": {},
     "output_type": "execute_result"
    }
   ],
   "source": [
    "iprb 2 2 2\n",
    "iprb 17 26 20"
   ]
  },
  {
   "cell_type": "markdown",
   "metadata": {},
   "source": [
    "## Translating RNA into Protein\n",
    "http://rosalind.info/problems/prot/\n",
    "\n",
    "See https://en.wikipedia.org/wiki/Genetic_code#/media/File:3D_Genetic_Code.jpg"
   ]
  },
  {
   "cell_type": "code",
   "execution_count": 29,
   "metadata": {},
   "outputs": [],
   "source": [
    "codon←0 2 1⍉⍉4 4 4⍴'FLIVFLIVLLIVLLMVSPTASPTASPTASPTAYHNDYHND.QKE.QKECRSGCRSG.RRGWRRG'\n",
    "test←'AUGGCCAUGGCGCCCAGAACUGAGAUCAAUAGUACCCGUAUUAACGGGUGA'"
   ]
  },
  {
   "cell_type": "code",
   "execution_count": 30,
   "metadata": {},
   "outputs": [],
   "source": [
    "prot←{enc←0 1 2 3['UCAG'⍳⍵]⋄¯1↓⍺[⊂⍤1⊢(3÷⍨≢enc) 3⍴enc]}"
   ]
  },
  {
   "cell_type": "code",
   "execution_count": 31,
   "metadata": {},
   "outputs": [
    {
     "data": {
      "text/html": [
       "<span style=\"white-space:pre; font-family: monospace\">MAMAPRTEINSTRING\n",
       "</span>"
      ]
     },
     "execution_count": 31,
     "metadata": {},
     "output_type": "execute_result"
    }
   ],
   "source": [
    "⊢r←codon prot test\n",
    "assert r≡'MAMAPRTEINSTRING'"
   ]
  },
  {
   "cell_type": "code",
   "execution_count": 32,
   "metadata": {},
   "outputs": [
    {
     "data": {
      "text/html": [
       "<span style=\"white-space:pre; font-family: monospace\">MWESKYAVSANIAWSYINHADVRLSSDGRYEVPPNFRQAIKLIMPFHSAGLYYR\n",
       "</span>"
      ]
     },
     "execution_count": 32,
     "metadata": {},
     "output_type": "execute_result"
    }
   ],
   "source": [
    "data←file'rosalind_prot.txt'\n",
    "r←codon prot (⊃data)\n",
    "54↑r ⍝ String is long. Show the first 50 or so letters only\n",
    "assert 'MWESKYAVSANIAWSYINHADVRLSSDGRYEVPPNFRQAIKLIMPFHSAGLYYR'≡54↑r"
   ]
  },
  {
   "cell_type": "markdown",
   "metadata": {},
   "source": [
    "## Finding a Motif in DNA\n",
    "http://rosalind.info/problems/subs/"
   ]
  },
  {
   "cell_type": "code",
   "execution_count": 33,
   "metadata": {},
   "outputs": [],
   "source": [
    "sub←⍸⍷"
   ]
  },
  {
   "cell_type": "code",
   "execution_count": 34,
   "metadata": {},
   "outputs": [
    {
     "data": {
      "text/html": [
       "<span style=\"white-space:pre; font-family: monospace\">113 131 138 154 321 355 384 407 414\n",
       "</span>"
      ]
     },
     "execution_count": 34,
     "metadata": {},
     "output_type": "execute_result"
    }
   ],
   "source": [
    "data←file'rosalind_subs.txt'\n",
    "r←1+⊃sub⍨/data ⍝ 1-index!\n",
    "9↑r ⍝ List is long....\n",
    "assert 113 131 138 154 321 355 384 407 414≡9↑r "
   ]
  },
  {
   "cell_type": "markdown",
   "metadata": {},
   "source": [
    "## Consensus and Profile\n",
    "http://rosalind.info/problems/cons/"
   ]
  },
  {
   "cell_type": "code",
   "execution_count": 167,
   "metadata": {},
   "outputs": [
    {
     "data": {
      "text/html": [
       "<span style=\"white-space:pre; font-family: monospace\">CAAAACACGGAGAAACGCAGACGAAGCACTGTACAAAGTACTGAACAAGAGCAAATTTTTAAGCTGAAGCGAACCTAGATAGCCGTGAGGCAGACCCCCTCACAGAGAAAACATACTACAATCCATACCACGTCCGAAGAAAACCCGCAAATCTGCGTCTTGTTAGAAGCAAACAAATACGACCGAACAGATTAAGACCGTCACAACGTGAGTAACCCTGCAAGGAGAGCAACCGCTGTCACCGTCACAGAAGACTCAGAGCAAACCGCCCCGATAACCCGAATGGTAGAAACTAGTGGACTTAACTTCTGAATTACAATTTGGTCGGGAGAAAGACAGAAAACATGGTGAACCCACTCCGGCACCTGGGCCGGGCAGAACGTAATGGAAGCAGCGTACGCGTATAAATGCACAAGCAACACAGTACACATATCTCATCTCAACGGAAACGGGGTTGCAATGCTTCTTTACAAAATTCTACAGCGACATCGGAATTAACGCGGAACAGGATTGCACCAACTGACGTCCGAAGCAAGAGTGACAGGCAGACTAACAAGATTGGAAAGACCATTCGCGGTAAAAAAGTGGTGGGATGTAGGAATCGCGAATATCTCTTTGAAACAACATCGAAGTGGCCACCAAAACTACCCAAGACGCGAAGGACTCTCAAGGGCTATCAGTTCAGAAAGGCGTACCTGGCCACATTTTAGGCACCCGAAACAAAAAACCAAACACTCAAGGAGTGCCAGCCAGAATACAACATGGTTTTCTTTACATGAAAGAAAAACAACTAGCCAAGCCTAAAATAACAACTGTCTTGTTTTGCAACCACCTTCCGATAAGGAAGAGTAAGTCGATGTCCTGGTGAATTTCAACGCTTAACGCACAAAACCCGCAATACCCTAAGTCCTAGCATACACCTAAAGATAGGGCCCCCCGCATGCCGCGCAGGGTGGATCACTCGTGCAAAGACCCTTTGGTGAACGAGCAGACAACACA                                                                                                                                                                                                                                                                                                                                                                                                                                                                                                                                                                                                                                                                                                                                                                                                                                                                                                                                                                                                                                         \n",
       "A: 2 5 5 3 6 2 4 0 0 2 3 2 3 4 4 3 2 3 5 3 3 2 1 4 3 1 2 4 1 1 3 1 3 2 4 5 3 1 3 3 1 3 2 5 4 0 4 3 2 3 2 3 4 4 4 3 3 2 2 3 4 3 3 1 1 1 3 3 0 0 2 3 3 2 3 1 3 2 3 2 4 2 2 4 2 2 1 4 3 3 2 4 3 5 3 2 2 2 3 1 2 4 0 4 3 4 2 4 4 5 3 2 5 3 4 2 2 6 0 3 5 2 2 3 4 3 4 2 2 4 1 2 2 2 2 2 3 4 2 6 3 5 4 1 1 2 1 0 6 5 4 3 2 3 3 1 2 3 2 3 2 1 0 2 5 2 3 4 1 2 4 4 6 2 5 3 5 1 3 0 2 4 1 1 1 5 3 4 3 4 5 2 1 3 3 1 4 2 1 3 4 3 3 2 4 3 2 1 2 1 4 3 2 5 4 2 3 0 3 3 1 5 4 2 2 4 1 4 0 2 5 4 2 1 0 0 0 2 1 2 3 1 2 2 2 2 3 2 4 3 3 4 2 3 2 2 1 3 2 3 3 2 3 4 5 3 1 1 2 2 4 3 0 3 1 4 4 2 1 2 3 3 3 0 2 1 2 4 2 4 3 4 0 2 4 3 1 2 2 4 2 1 1 4 6 1 1 1 1 1 2 4 4 2 3 4 2 3 4 3 1 3 3 1 1 1 2 3 2 3 3 3 3 4 2 4 3 3 1 4 6 3 4 3 3 2 3 2 1 0 5 4 2 3 2 3 1 2 2 2 2 2 3 4 2 2 1 2 3 1 1 4 2 2 1 2 4 2 4 4 2 3 3 3 4 2 3 2 4 4 3 2 5 3 1 3 3 4 1 0 1 1 3 3 2 5 3 4 0 2 2 5 2 4 3 4 2 5 4 1 4 2 4 3 1 6 1 3 2 4 0 3 1 2 3 1 4 1 1 0 3 4 4 1 1 1 5 4 5 2 2 1 1 2 1 2 2 3 3 3 1 1 2 3 3 1 2 2 1 3 2 4 5 3 3 2 2 3 2 3 2 6 2 1 2 4 3 4 3 2 1 2 4 4 3 1 4 3 3 0 1 3 3 5 3 2 4 2 2 4 1 2 3 1 7 2 1 3 3 0 3 1 4 3 3 2 1 1 1 4 4 1 1 4 3 2 4 1 1 1 6 0 4 1 2 2 5 3 4 1 2 5 4 2 4 4 1 5 4 3 0 2 5 4 5 3 4 2 2 3 2 3 1 2 2 1 0 2 4 4 5 3 3 3 2 1 2 2 1 1 0 2 4 1 2 3 4 3 3 4 4 2 2 3 2 3 4 4 1 3 1 2 2 1 3 3 2 2 3 3 4 2 3 5 2 4 2 1 3 4 4 2 2 2 2 2 1 3 1 2 3 4 3 4 2 1 3 1 2 2 4 4 2 3 2 2 3 2 5 3 0 1 4 1 2 0 1 2 5 5 1 1 2 3 3 4 3 2 4 2 1 2 1 3 2 3 4 3 1 2 2 2 1 3 2 1 3 3 2 1 1 4 3 5 3 1 3 2 4 2 2 2 5 2 1 2 2 5 4 4 2 5 4 3 5 4 4 2 3 4 3 6 2 3 2 1 2 5 4 3 1 4 2 0 0 3 2 3 2 3 2 5 2 4 4 3 3 2 3 3 2 3 2 1 1 3 1 2 0 2 2 2 2 4 3 5 3 2 4 4 4 2 3 3 4 3 3 3 3 5 3 2 4 2 1 2 4 4 3 2 2 1 4 4 4 4 3 4 4 1 5 4 1 2 3 1 1 3 3 2 3 3 1 3 3 3 3 4 2 2 6 3 2 1 2 2 1 3 3 3 6 4 2 2 3 4 1 3 1 1 3 3 2 0 2 3 4 1 2 2 1 0 2 3 3 0 3 4 4 1 2 1 2 3 4 2 2 1 2 1 4 4 1 0 2 3 3 6 4 3 4 2 3 1 2 0 4 3 3 4 3 1 2 2 4 3 2 4 2 1 2 3 3 3 3 3 5 3 4 3 1 2 4 6 4 2 3 3 4 2 3 3 2 2 1 1 2 3 2 1 4 1 2 2 3 3 2 1 1 5 1 2 3 2 2 2 3 1 3 3 2 2 2 0 2 2 2 3 4 4 2 5 1 2 1 1 2 1 1 2 3 3 4 4 2 2 4 2 3 6 1 3 2 5 4 0 4 2 3\n",
       "C: 4 2 1 2 2 4 1 5 1 3 3 2 3 0 4 4 2 4 1 2 3 3 3 2 2 3 3 2 3 2 2 1 1 3 0 3 3 4 0 3 3 1 2 2 3 4 3 2 1 1 0 4 3 3 3 2 0 2 3 1 2 3 0 5 3 3 2 3 4 5 1 3 3 4 4 1 3 2 3 0 3 2 4 5 1 3 2 2 0 2 4 3 1 1 5 4 3 3 4 2 3 4 4 3 3 3 1 2 2 2 3 4 0 1 2 3 1 1 4 3 1 3 3 4 0 0 2 3 4 1 3 2 2 3 5 2 2 2 1 3 2 2 4 3 5 3 1 4 1 2 0 0 4 1 1 4 2 2 4 0 1 2 3 2 1 1 3 1 3 4 1 1 2 3 1 3 1 0 2 6 2 2 4 4 1 1 3 5 2 1 3 3 2 2 2 0 2 4 4 2 1 4 3 5 3 1 4 2 3 2 3 1 3 3 2 4 4 5 1 1 4 1 1 2 2 2 2 3 1 3 1 3 4 4 2 4 2 2 2 5 1 4 3 3 3 4 2 4 4 1 2 4 3 3 4 1 4 2 2 3 2 4 2 3 2 4 4 1 3 3 5 4 2 3 3 1 1 3 4 4 2 3 3 2 2 3 1 2 1 2 2 2 5 1 1 0 3 0 1 1 4 2 2 3 1 3 3 2 6 2 1 1 2 3 2 2 4 3 0 1 2 3 1 1 2 4 1 2 3 2 0 2 3 1 2 1 4 3 3 2 2 3 1 4 3 3 0 2 2 1 1 2 3 4 3 2 3 2 3 4 2 1 4 1 3 5 2 1 1 3 4 5 1 3 3 5 3 3 0 3 3 1 1 3 1 1 0 2 2 2 0 3 2 1 5 2 0 1 3 1 5 0 2 3 1 3 3 2 3 2 5 0 5 1 3 1 4 2 2 4 2 5 1 3 2 0 4 2 3 2 1 3 2 3 3 4 2 1 6 4 4 2 3 4 3 1 3 4 0 4 2 1 2 3 3 1 1 4 2 3 0 3 3 2 2 4 2 1 1 2 5 2 2 3 2 1 3 4 2 2 5 3 2 5 0 1 5 2 1 3 2 3 1 2 1 3 3 2 4 2 5 1 2 2 3 4 3 1 2 1 1 2 2 5 1 5 6 3 2 4 1 0 2 5 1 3 4 4 2 0 1 2 3 2 3 2 3 2 3 3 3 7 3 2 1 3 5 0 2 4 3 0 2 3 2 1 2 0 1 1 3 1 3 3 0 1 2 5 4 2 1 1 5 2 4 2 3 3 2 2 2 1 2 2 3 3 2 3 0 2 4 2 1 4 0 1 2 2 2 2 1 1 3 2 5 2 2 3 0 2 3 3 1 3 2 3 1 0 2 3 0 3 3 2 3 1 1 6 0 2 2 2 2 2 1 4 4 3 4 4 2 1 3 3 3 2 3 5 4 3 2 2 2 2 3 2 4 1 1 1 1 2 1 3 2 5 3 4 3 1 2 2 1 4 1 1 2 4 2 2 3 3 6 1 0 1 3 2 0 2 3 3 1 3 3 3 2 2 1 5 4 1 4 4 1 2 0 2 2 1 1 3 2 3 7 3 3 3 4 3 3 2 2 2 1 4 1 5 4 3 3 0 3 1 3 3 3 0 2 0 2 3 2 2 2 5 4 3 2 4 4 2 3 1 2 1 3 4 3 3 4 3 1 0 3 0 1 3 1 5 1 3 2 0 4 4 1 1 4 3 3 1 3 2 4 2 3 4 3 1 4 2 1 1 4 4 1 0 1 5 3 3 1 2 3 3 0 0 1 4 2 0 5 1 3 3 4 0 1 2 1 2 2 1 2 4 2 1 5 5 3 5 3 2 1 4 5 2 1 1 2 1 2 3 3 1 3 1 1 1 2 3 2 3 7 1 1 2 1 3 5 5 2 1 0 3 1 1 1 4 2 2 3 2 1 4 1 4 3 1 2 1 3 2 4 3 4 1 4 3 1 3 5 4 0 6 2 3 1 2 6 4 3 2 2 3 1 0 3 6 1 2 0 4 3 2 1 4 1 4 3 2 3 1 3 2 2 3 2 0 1 2 3 4 6 4 4 4 1 3 3 2 3 3 4 2 4 2 4 1 2 3 1 1 2 2 1 3 4 2 4 2 3 2 2 1 4 3 1 0 2 3 4 5 4 3 3 2 1 3 1 3 3 2 5 2 0 2 4 2 2 3 4 4 0 4 2 4 3\n",
       "G: 1 1 2 3 0 4 1 3 5 4 3 4 2 4 2 2 3 2 3 5 2 3 4 3 2 4 3 3 3 2 4 3 3 2 3 2 1 5 3 2 3 2 5 1 3 3 1 3 4 3 5 1 1 2 1 1 3 2 1 2 1 3 5 2 2 4 3 2 5 1 6 3 2 1 1 3 2 4 2 2 2 3 2 1 7 1 4 1 5 4 1 3 5 3 0 1 3 2 2 1 2 0 2 0 4 2 4 1 2 0 2 1 2 2 3 3 2 1 3 2 4 1 2 1 3 2 4 3 1 3 3 3 1 3 2 3 2 3 5 0 3 2 1 3 3 2 6 4 0 1 2 2 0 2 6 3 5 1 3 3 3 4 3 1 1 5 1 4 5 1 2 3 0 2 1 3 2 4 2 3 3 2 1 1 5 3 2 1 2 5 1 1 3 2 3 5 2 1 2 4 0 1 1 2 3 3 4 5 1 4 1 5 0 0 2 3 1 1 2 5 2 1 3 3 3 3 7 2 5 2 2 1 1 2 5 3 3 3 2 0 3 3 2 4 1 2 2 3 0 5 2 1 4 1 2 3 3 2 3 3 4 2 2 2 2 1 1 4 2 2 0 1 8 1 1 1 2 3 4 0 5 1 1 3 3 4 2 1 4 2 3 1 2 1 3 4 2 4 4 3 2 3 3 2 2 3 1 3 2 2 6 2 2 1 1 0 3 2 3 2 3 0 5 6 3 2 4 4 4 3 4 3 1 1 6 4 1 2 6 2 2 2 3 0 1 0 5 3 3 5 3 1 2 1 3 3 3 2 2 1 4 5 2 2 3 1 3 4 4 4 4 0 4 4 5 1 2 4 4 3 2 4 2 1 2 2 4 4 2 3 5 2 2 4 1 4 2 3 3 6 2 7 1 2 2 2 2 1 2 4 2 3 1 2 3 5 2 3 2 2 1 2 4 4 2 3 2 3 2 2 3 2 3 3 0 2 2 3 1 1 2 3 2 4 4 4 1 1 2 1 4 4 4 4 2 2 4 2 2 3 3 6 3 1 0 3 1 2 3 2 1 1 1 1 2 3 1 3 2 2 0 0 4 1 6 2 2 4 2 3 4 4 3 2 2 2 1 3 1 4 3 4 5 2 2 2 2 5 3 1 3 2 4 3 1 1 2 3 3 4 2 7 3 2 4 1 3 3 4 3 2 6 3 4 1 3 2 5 1 4 0 1 0 5 4 3 0 4 1 2 0 3 1 3 2 1 5 2 0 2 4 4 2 0 4 4 1 2 2 3 3 2 2 3 2 5 5 1 2 1 2 3 2 2 4 2 4 4 4 5 5 3 1 0 4 2 2 4 4 3 2 3 3 4 2 4 3 2 2 2 2 2 3 3 1 0 3 4 3 2 4 3 3 2 2 2 3 1 4 2 3 3 1 4 5 1 1 1 1 2 2 1 2 1 3 3 3 3 3 2 0 1 5 2 2 4 0 5 2 3 7 5 3 3 1 1 2 3 0 0 5 4 5 1 2 3 1 2 2 3 2 1 2 3 5 3 1 2 5 3 3 5 3 2 2 3 0 5 5 3 2 4 1 1 2 2 3 2 2 4 4 2 3 2 2 3 4 2 1 1 2 1 2 3 3 2 3 2 1 2 2 2 3 3 3 2 3 3 3 4 6 1 4 2 4 0 2 3 4 1 3 1 4 3 2 2 1 2 2 2 2 3 2 5 4 0 3 0 3 0 3 1 1 4 1 0 1 4 1 1 3 4 3 3 2 3 3 1 2 2 3 1 2 5 4 2 3 3 4 2 3 1 3 0 2 3 2 2 2 3 1 3 2 2 4 2 2 2 2 4 1 1 3 2 4 1 3 2 1 1 1 2 2 2 3 2 2 4 3 2 0 2 4 4 1 3 5 3 4 3 3 1 4 3 0 4 4 2 4 0 3 2 2 5 4 2 5 3 2 0 2 2 3 3 3 1 6 1 1 3 2 2 3 5 2 3 1 2 1 1 3 3 1 4 5 2 0 2 2 1 0 3 2 1 2 2 4 1 2 2 3 3 5 1 3 1 1 0 2 1 3 0 1 2 2 4 3 0 2 4 4 4 3 1 2 2 2 1 4 3 2 3 5 3 1 4 2 4 2 0 4 4 4 3 3 4 3 1 1 3 4 2 3 4 2 4 2 2 1 3 3 1 1 1 3 1 1 3 5 5 2 4 2 2 2 5 3 4 2 0 5 3 2 0 4 3 1 1 2\n",
       "T: 3 2 2 2 2 0 4 2 4 1 1 2 2 2 0 1 3 1 1 0 2 2 2 1 3 2 2 1 3 5 1 5 3 3 3 0 3 0 4 2 3 4 1 2 0 3 2 2 3 3 3 2 2 1 2 4 4 4 4 4 3 1 2 2 4 2 2 2 1 4 1 1 2 3 2 5 2 2 2 6 1 3 2 0 0 4 3 3 2 1 3 0 1 1 2 3 2 3 1 6 3 2 4 3 0 1 3 3 2 3 2 3 3 4 1 2 5 2 3 2 0 4 3 2 3 5 0 2 3 2 3 3 5 2 1 3 3 1 2 1 2 1 1 3 1 3 2 2 3 2 4 5 4 4 0 2 1 4 1 4 4 3 4 5 3 2 3 1 1 3 3 2 2 3 3 1 2 5 3 1 3 2 4 4 3 1 2 0 3 0 1 4 4 3 2 4 2 3 3 1 5 2 3 1 0 3 0 2 4 3 2 1 5 2 2 1 2 4 4 1 3 3 2 3 3 1 0 1 4 3 2 2 3 3 3 3 5 3 5 3 3 2 3 1 4 2 3 1 2 1 3 1 1 3 2 4 2 3 3 1 1 2 3 1 1 2 4 4 3 3 1 2 0 3 5 4 3 2 1 4 0 3 3 5 3 2 5 3 3 2 2 3 3 6 2 3 4 4 3 2 2 4 4 1 1 3 5 4 1 5 1 3 2 4 4 4 1 2 3 4 4 4 1 2 4 3 3 1 1 2 3 2 3 4 0 1 2 2 0 2 0 2 2 3 3 5 2 3 4 4 1 3 3 2 2 2 3 4 3 3 2 2 1 3 2 2 4 3 2 2 1 1 3 1 1 2 1 1 2 0 3 2 4 3 3 5 3 2 2 1 2 3 1 2 3 1 5 2 3 3 2 2 4 2 5 0 2 3 5 2 1 2 2 3 1 0 2 0 2 3 3 1 1 0 5 1 3 2 3 2 6 2 4 2 4 3 2 5 2 5 1 1 1 1 2 4 1 1 3 3 2 4 3 1 4 5 3 1 3 1 6 0 2 4 5 2 5 5 5 3 2 3 2 3 3 4 4 0 4 3 3 1 2 3 2 3 0 0 4 2 3 1 2 2 4 4 2 2 2 4 1 2 0 1 2 2 1 2 3 4 5 4 1 1 1 2 1 1 2 2 4 2 1 0 2 4 2 2 3 3 3 1 3 0 3 3 1 2 5 2 1 2 3 2 3 2 0 3 3 3 5 2 3 2 2 4 2 3 5 4 3 3 0 3 1 2 3 1 2 2 4 4 2 3 2 2 2 4 2 3 1 3 3 3 1 4 2 1 5 2 1 3 4 5 4 4 2 1 1 1 3 4 2 1 1 1 1 1 7 3 4 3 4 3 4 4 4 4 2 2 2 2 1 1 3 3 4 2 3 2 1 3 5 2 2 3 4 3 4 2 3 4 2 2 2 4 1 1 1 3 4 3 1 3 3 2 3 2 2 3 2 2 2 3 5 4 4 1 2 4 2 3 2 2 4 2 4 2 2 3 4 4 1 3 3 3 2 3 4 3 2 0 5 2 3 3 5 0 2 1 3 1 2 0 4 5 4 4 2 3 3 3 0 3 0 2 1 0 1 2 3 2 2 2 1 0 2 1 2 1 2 2 2 3 2 4 2 2 1 3 1 2 2 6 4 2 2 1 2 2 1 2 1 2 2 4 3 2 2 2 2 1 5 4 2 7 5 5 6 3 4 4 5 2 2 1 5 3 1 2 0 3 1 2 0 2 1 2 2 2 0 5 3 2 1 2 2 3 2 1 2 5 2 4 1 0 5 4 3 2 2 3 2 5 0 4 3 5 4 2 5 4 4 4 1 2 2 3 2 2 0 0 3 5 4 2 2 1 3 4 2 3 2 1 3 2 1 3 4 5 2 3 2 4 1 2 1 5 3 5 1 3 4 1 3 5 1 2 3 5 4 5 2 2 2 3 1 4 4 5 2 3 3 3 2 1 2 1 1 3 2 2 1 1 3 2 4 2 4 3 1 2 3 5 2 2 3 5 3 1 4 2 2 2 1 4 3 3 3 2 3 6 2 1 1 2 2 4 2 4 2 1 2 3 1 3 2 2 3 3 1 4 0 2 2 1 2 3 3 4 3 1 2 4 3 2 3 5 2 2 0 4 2 4 4 3 2 2 4 3 3 1 4 2 2 5 4 4 3 0 4 0 1 2 1 1 3 2 1 2 2 1 2 1 2 3 3 3 2\n",
       "</span>"
      ]
     },
     "execution_count": 167,
     "metadata": {},
     "output_type": "execute_result"
    }
   ],
   "source": [
    "data←FASTA2'rosalind_cons.txt'\n",
    "profile ← ⍉↑(+/'ACGT'⍷⍤0 1⊢)¨↓⍉↑data.strings      ⍝ TODO: this could be better\n",
    "consensus ← 'ACGT'[⊃∘⍒⍤1⊢⍉profile]\n",
    "\n",
    "⍝ Format the output as per problem description\n",
    "len ← 1⊃⍴∊⍤1⊢table ← (⍪'A: ' 'C: ' 'G: ' 'T: '),⍕profile\n",
    "(len↑consensus)⍪∊⍤1⊢table"
   ]
  },
  {
   "cell_type": "code",
   "execution_count": 168,
   "metadata": {},
   "outputs": [],
   "source": [
    "assert 'CAAAACACGGAGAAACGCAGACGAAGCA'≡28↑consensus"
   ]
  },
  {
   "cell_type": "markdown",
   "metadata": {},
   "source": [
    "## Mortal Fibonacci Rabbits\n",
    "http://rosalind.info/problems/fibd/"
   ]
  },
  {
   "cell_type": "markdown",
   "metadata": {},
   "source": [
    "## Overlap Graphs\n",
    "http://rosalind.info/problems/grph/"
   ]
  },
  {
   "cell_type": "code",
   "execution_count": 174,
   "metadata": {},
   "outputs": [
    {
     "data": {
      "text/html": [
       "<span style=\"white-space:pre; font-family: monospace\"> Rosalind_1587  Rosalind_6418\n",
       " Rosalind_1587  Rosalind_2362\n",
       " Rosalind_1587  Rosalind_3930\n",
       " Rosalind_1587  Rosalind_0511\n",
       " Rosalind_7914  Rosalind_1587\n",
       " Rosalind_7914  Rosalind_1264\n",
       " Rosalind_2251  Rosalind_3736\n",
       " Rosalind_2251  Rosalind_0096\n",
       " Rosalind_5406  Rosalind_3099\n",
       " Rosalind_5406  Rosalind_1092\n",
       "</span>"
      ]
     },
     "execution_count": 174,
     "metadata": {},
     "output_type": "execute_result"
    }
   ],
   "source": [
    "data←FASTA2'rosalind_grph-2.txt'\n",
    "m ← ∘.{(¯3↑⍺)≡(3↑⍵)} ⍨data.strings\n",
    "(0 0⍉m) ← 0\n",
    "r ← (2÷⍨≢pairs) 2⍴pairs ← data.names[∊⍸m]\n",
    "10↑r ⍝ Just the first 10"
   ]
  },
  {
   "cell_type": "markdown",
   "metadata": {},
   "source": [
    "## Finding a Shared Motif\n",
    "http://rosalind.info/problems/lcsm/\n",
    "\n",
    "All strings in the test set are of equal lengths (1000).\n",
    "\n",
    "This is a naive brute-force search, made tenable by limiting the substring length to longer than 100 and shorter than 200 letters.\n",
    "\n",
    "<s>Note: doesn't work on 18.1-pre.</s>"
   ]
  },
  {
   "cell_type": "code",
   "execution_count": 198,
   "metadata": {},
   "outputs": [
    {
     "data": {
      "text/html": [
       "<span style=\"white-space:pre; font-family: monospace\">TGAATGACCCCATGATGGCTGGCAACCCTATTGGTTGAATTTTCAGTTCGACCAAGGTTGAGACCACGTCTTCCCGCACAATATTGTTTTACATCTAGACT\n",
       "</span>"
      ]
     },
     "execution_count": 198,
     "metadata": {},
     "output_type": "execute_result"
    }
   ],
   "source": [
    "data←FASTA2'rosalind_lcsm.txt'      \n",
    "substrings ← ⊃,/2↓(⍳∘≢,/¨⊂)⊃data.strings\n",
    "test←({l←≢⍵⋄(l<200)∧(l>100)}¨substrings)/substrings\n",
    "test⊃⍨⊃⍸∧/test ∘.(1∊⍷) data.strings  ⍝ ~30s"
   ]
  },
  {
   "cell_type": "markdown",
   "metadata": {},
   "source": [
    "## Independent Alleles\n",
    "http://rosalind.info/problems/lia/\n",
    "\n",
    "http://rosalind.info/problems/lia/explanation/\n",
    "\n",
    "Some more probability maths I can't claim to understand. A binomial distribution B(n, p), with n=2×k (there are two children at each generation) and p=1/4."
   ]
  },
  {
   "cell_type": "code",
   "execution_count": 11,
   "metadata": {},
   "outputs": [],
   "source": [
    "lia←{p←{(⍵!2*⍺)×(0.25*⍵)×0.75*(2*⍺)-⍵}⋄⍎3⍕1-+/⍺∘p¨⍳⍵}"
   ]
  },
  {
   "cell_type": "code",
   "execution_count": 15,
   "metadata": {},
   "outputs": [
    {
     "data": {
      "text/html": [
       "<span style=\"white-space:pre; font-family: monospace\">     \n",
       "0.684\n",
       "     \n",
       "</span>"
      ]
     },
     "execution_count": 15,
     "metadata": {},
     "output_type": "execute_result"
    }
   ],
   "source": [
    "assert 0.684=⎕←2 lia 1"
   ]
  },
  {
   "cell_type": "code",
   "execution_count": 14,
   "metadata": {},
   "outputs": [
    {
     "data": {
      "text/html": [
       "<span style=\"white-space:pre; font-family: monospace\">     \n",
       "0.178\n",
       "     \n",
       "</span>"
      ]
     },
     "execution_count": 14,
     "metadata": {},
     "output_type": "execute_result"
    }
   ],
   "source": [
    "assert 0.178=⎕←7 lia 37"
   ]
  },
  {
   "cell_type": "markdown",
   "metadata": {},
   "source": [
    "## Finding a Protein Motif\n",
    "http://rosalind.info/problems/mprt/\n",
    "\n",
    "Note: matches may overlap. To get overlapping regex captures, use a capturing group inside a zero-width lookahead assertion. See https://stackoverflow.com/questions/5616822/python-regex-find-all-overlapping-matches"
   ]
  },
  {
   "cell_type": "code",
   "execution_count": 38,
   "metadata": {},
   "outputs": [],
   "source": [
    "data←file'rosalind_mprt-2.txt'"
   ]
  },
  {
   "cell_type": "code",
   "execution_count": 39,
   "metadata": {},
   "outputs": [],
   "source": [
    "found←⍬∘≢¨loc←{'(?=(N[^P][ST][^P]))'⎕S 0⊢⍵}¨UniProt data ⍝ TODO: use regex variant for overlapping matches instead"
   ]
  },
  {
   "cell_type": "code",
   "execution_count": 40,
   "metadata": {},
   "outputs": [
    {
     "data": {
      "text/html": [
       "<span style=\"white-space:pre; font-family: monospace\">Was OFF\n",
       "</span>"
      ]
     },
     "execution_count": 40,
     "metadata": {},
     "output_type": "execute_result"
    },
    {
     "data": {
      "text/html": [
       "<span style=\"white-space:pre; font-family: monospace\"> P01878_ALC_MOUSE\n",
       " 38 99 314 329\n",
       " Q7TMB8\n",
       " 209 291 328 442 607 672 831 858\n",
       " Q07287_ZPB_PIG\n",
       " 70 203 220 333 474\n",
       " P07725_CD8A_RAT\n",
       " 63\n",
       " P49286\n",
       " 4 130\n",
       " P06870_KLK1_HUMAN\n",
       " 102 108 165\n",
       " P01044_KNH1_BOVIN\n",
       " 47 87 168 169 197 204\n",
       " P08709_FA7_HUMAN\n",
       " 205 382\n",
       " P01215_GLHA_HUMAN\n",
       " 76 102\n",
       " A2A2Y4\n",
       " 90 359 407\n",
       "</span>"
      ]
     },
     "execution_count": 40,
     "metadata": {},
     "output_type": "execute_result"
    }
   ],
   "source": [
    "]box off\n",
    "⍪⊃,/↓⍉↑(found/data) (1+found/loc)"
   ]
  },
  {
   "cell_type": "markdown",
   "metadata": {},
   "source": [
    "## Open Reading Frames\n",
    "http://rosalind.info/problems/orf/\n",
    "\n",
    "An open reading frame (ORF) is one which starts from the start codon and ends by stop codon, without any other stop codons in between."
   ]
  },
  {
   "cell_type": "code",
   "execution_count": 223,
   "metadata": {},
   "outputs": [],
   "source": [
    "codon←0 2 1⍉⍉4 4 4⍴'FLIVFLIVLLIVLLMVSPTASPTASPTASPTAYHNDYHND.QKE.QKECRSGCRSG.RRGWRRG'\n",
    "dna2rna←'U'@('T'∘=)\n",
    "revcmpl←{⊖'UAGC'['AUCG'⍳⍵]}\n",
    "orfs←{'(?=(AUG(...)*?(UAG|UAA|UGA)))'⎕S'\\1'⊢⍵}\n",
    "makeprot←{enc←0 1 2 3['UCAG'⍳¯3↓⍵]⋄⍺[⊂⍤1⊢(⌊3÷⍨≢enc)3⍴enc]}"
   ]
  },
  {
   "cell_type": "code",
   "execution_count": 224,
   "metadata": {},
   "outputs": [
    {
     "data": {
      "text/html": [
       "<span style=\"white-space:pre; font-family: monospace\">MFGLPKSRSTDVKA\n",
       "M\n",
       "MLGKSYSPMVHHPTRLRRI\n",
       "MVHHPTRLRRI\n",
       "MSL\n",
       "MPPLLS\n",
       "MSPINIARHSRGSSGQRLCCGSSKTSISEDDTLYHKSSSELLTGSALRPGAFNVSINRVYSRDEPNVETMCLPVPS\n",
       "MSRRCVYLYRRSLRIKCLVAVVRSHSYGSEPLQQGITIGMSSNVSTLANQRSVLDHASEFPGKVMPGGAICHAALTRSNLGWRH\n",
       "MCLPVPS\n",
       "MPCCSGSEP\n",
       "MAPNHCNKA\n",
       "MSSNVSTLANQRSVLDHASEFPGKVMPGGAICHAALTRSNLGWRH\n",
       "MRPNSQVR\n",
       "MPGGAICHAALTRSNLGWRH\n",
       "MLPSQDPI\n",
       "MAPLKNLARARYKYCAMYRRKASVLESAQITSTTVVIRYARNRPSKILTK\n",
       "MYRRKASVLESAQITSTTVVIRYARNRPSKILTK\n",
       "MCLEAALRVRATAKMARDRVSYNNLFSKDFGWTISRVPYHNSCGSNLGAFENRGLTPVHCAIFISCASQIF\n",
       "MARDRVSYNNLFSKDFGWTISRVPYHNSCGSNLGAFENRGLTPVHCAIFISCASQIF\n",
       "MDDFSRTLSQQLWK\n",
       "MAPS\n",
       "MTDRPTGHHLTWEFGRMVENAALIG\n",
       "MVENAALIG\n",
       "MAPNHCNKAFYAQTTTVQVDTSSRH\n",
       "MRRLRRYR\n",
       "MLTLNAPGLKADPVRSSEEDL\n",
       "MLMGLMIKVGAYAGV\n",
       "MGLMIKVGAYAGV\n",
       "MIKVGAYAGV\n",
       "MPEYEVAS\n",
       "MKWRLNVTSSYTPQARRVVYHWRVALP\n",
       "MLQAHIRRRRVGWCTIGE\n",
       "</span>"
      ]
     },
     "execution_count": 224,
     "metadata": {},
     "output_type": "execute_result"
    }
   ],
   "source": [
    "data←FASTA2'rosalind_orf.txt'\n",
    "r1←dna2rna (⊃data.strings)\n",
    "r2←revcmpl r1\n",
    "s1←orfs r1\n",
    "s2←orfs r2\n",
    "r←∪codon∘makeprot¨ s1,s2\n",
    "{⎕←⍵}¨r"
   ]
  },
  {
   "cell_type": "markdown",
   "metadata": {},
   "source": [
    "## Enumerating Gene Orders\n",
    "http://rosalind.info/problems/perm/"
   ]
  },
  {
   "cell_type": "code",
   "execution_count": 21,
   "metadata": {},
   "outputs": [
    {
     "data": {
      "text/html": [
       "<span style=\"white-space:pre; font-family: monospace\">24\n",
       "1 2 3 4\n",
       "1 2 4 3\n",
       "1 3 2 4\n",
       "1 3 4 2\n",
       "1 4 2 3\n",
       "1 4 3 2\n",
       "2 1 3 4\n",
       "2 1 4 3\n",
       "2 3 1 4\n",
       "2 3 4 1\n",
       "2 4 1 3\n",
       "2 4 3 1\n",
       "3 1 2 4\n",
       "3 1 4 2\n",
       "3 2 1 4\n",
       "3 2 4 1\n",
       "3 4 1 2\n",
       "3 4 2 1\n",
       "4 1 2 3\n",
       "4 1 3 2\n",
       "4 2 1 3\n",
       "4 2 3 1\n",
       "4 3 1 2\n",
       "4 3 2 1\n",
       "</span>"
      ]
     },
     "execution_count": 21,
     "metadata": {},
     "output_type": "execute_result"
    }
   ],
   "source": [
    "⎕IO←1\n",
    "pmat←{1≥⍴⍵:↑,↓⍵⋄↑⍪/⍵,∘∇¨⍵∘~¨⍵} ⍝ From dfns: pmat ⍳X\n",
    "data ← 4\n",
    "m←pmat ⍳data\n",
    "{⎕←≢⍵⋄⎕←⍵}m"
   ]
  },
  {
   "cell_type": "markdown",
   "metadata": {},
   "source": [
    "## Calculating Protein Mass\n",
    "http://rosalind.info/problems/prtm/"
   ]
  },
  {
   "cell_type": "code",
   "execution_count": 44,
   "metadata": {},
   "outputs": [],
   "source": [
    "data←file'rosalind_prtm.txt'\n",
    "mmt←71.03711 0.0 103.00919 115.02694 129.04259 147.06841 57.02146 137.05891 113.08406 0.0 128.09496 113.08406 131.04049 114.04293 0.0 97.05276 128.05858 156.10111 87.03203 101.04768 0.0 99.06841 186.07931 0.0 163.06333  0.0"
   ]
  },
  {
   "cell_type": "code",
   "execution_count": 45,
   "metadata": {},
   "outputs": [
    {
     "data": {
      "text/html": [
       "<span style=\"white-space:pre; font-family: monospace\">105638.74\n",
       "</span>"
      ]
     },
     "execution_count": 45,
     "metadata": {},
     "output_type": "execute_result"
    }
   ],
   "source": [
    "assert 105638.74=⎕←⍎3⍕+/mmt[⎕A⍳⊃data]"
   ]
  },
  {
   "cell_type": "markdown",
   "metadata": {},
   "source": [
    "## Locating Restriction Sites\n",
    "http://rosalind.info/problems/revp/\n",
    "\n",
    "We seek the position and length of every reverse palindrome in the string having length between 4 and 12. A reverse palindrome means a substring equal to its reverse complement. "
   ]
  },
  {
   "cell_type": "code",
   "execution_count": 176,
   "metadata": {},
   "outputs": [
    {
     "data": {
      "text/html": [
       "<span style=\"white-space:pre; font-family: monospace\">Was OFF\n",
       "</span>"
      ]
     },
     "execution_count": 176,
     "metadata": {},
     "output_type": "execute_result"
    },
    {
     "data": {
      "text/html": [
       "<span style=\"white-space:pre; font-family: monospace\">  1 4\n",
       "  2 4\n",
       " 24 4\n",
       " 36 4\n",
       " 51 4\n",
       " 53 4\n",
       " 60 4\n",
       " 83 4\n",
       " 84 4\n",
       "130 4\n",
       "152 4\n",
       "172 4\n",
       "192 4\n",
       "231 4\n",
       "235 4\n",
       "248 4\n",
       "268 4\n",
       "275 4\n",
       "312 4\n",
       "322 4\n",
       "334 4\n",
       "372 4\n",
       "383 4\n",
       "408 4\n",
       "414 4\n",
       "465 4\n",
       "472 4\n",
       "485 4\n",
       "510 4\n",
       "521 4\n",
       "540 4\n",
       "568 4\n",
       "595 4\n",
       "603 4\n",
       "626 4\n",
       "634 4\n",
       "646 4\n",
       "650 4\n",
       "653 4\n",
       "666 4\n",
       "670 4\n",
       "680 4\n",
       "698 4\n",
       "723 4\n",
       "741 4\n",
       "771 4\n",
       "785 4\n",
       "790 4\n",
       "800 4\n",
       "807 4\n",
       "809 4\n",
       "846 4\n",
       "851 4\n",
       "856 4\n",
       "867 4\n",
       "868 4\n",
       "869 4\n",
       "879 4\n",
       "880 4\n",
       "885 4\n",
       "893 4\n",
       "915 4\n",
       "928 4\n",
       "929 4\n",
       " 23 6\n",
       " 35 6\n",
       " 50 6\n",
       " 52 6\n",
       " 59 6\n",
       "129 6\n",
       "230 6\n",
       "311 6\n",
       "333 6\n",
       "371 6\n",
       "413 6\n",
       "464 6\n",
       "471 6\n",
       "649 6\n",
       "697 6\n",
       "789 6\n",
       "867 6\n",
       "310 8\n",
       "370 8\n",
       "463 8\n",
       "696 8\n",
       "788 8\n",
       "866 8\n",
       "462 10\n",
       "461 12\n",
       "</span>"
      ]
     },
     "execution_count": 176,
     "metadata": {},
     "output_type": "execute_result"
    }
   ],
   "source": [
    "⎕IO←1\n",
    "]box off\n",
    "data←FASTA2'rosalind_revp.txt'\n",
    "dna←⊃data.strings\n",
    "A←↓⌿↑(-¯1+⍳≢a) (a←↓(3+⍳9),/⍤0 1⊢dna)                     ⍝ Substrings of increasing lengths\n",
    "B←↓⌿↑(¯1+⍳≢b) (b←↓⌽(3+⍳9),/⍤0 1⊢{⊖'TAGC'['ATCG'⍳⍵]} dna) ⍝ Substrings of increasing lengths, reverse \n",
    "tab←,[0.5]⌿↑A B                                          ⍝ Line up\n",
    "{⍬≢⍺:⎕←⍺,⍤0 0⊢⍵}⌿↑(⍸¨≡⌿¨tab) (3+⍳9)                      ⍝ Match, find locations, print"
   ]
  },
  {
   "cell_type": "markdown",
   "metadata": {},
   "source": [
    "## RNA Splicing\n",
    "http://rosalind.info/problems/splc/\n",
    "Remove the intron strings, and transcribe the remainder. Regex job."
   ]
  },
  {
   "cell_type": "code",
   "execution_count": 199,
   "metadata": {},
   "outputs": [
    {
     "data": {
      "text/html": [
       "<span style=\"white-space:pre; font-family: monospace\">MAPVACRAVHKSPLAGSCELTTLDLRNDTKEVPTSSTSLKPYSLAAQRRISARSHFYDYFYEYLPPLYGRPKLASGANDTLNRSTHKHCLIGELEAGYHRNSQVIYVRSSCRTLTLDLFAVPFPISMMLILITWNVNIARRRRARYMTAVVGYETSFLGKFLQFTLSYPRRWLAMTEESTDLPFANLGS\n",
       "</span>"
      ]
     },
     "execution_count": 199,
     "metadata": {},
     "output_type": "execute_result"
    }
   ],
   "source": [
    "⎕IO←0\n",
    "makeprot←{enc←0 1 2 3['TCAG'⍳¯3↓⍵]⋄⍺[⊂⍤1⊢(⌊3÷⍨≢enc)3⍴enc]}\n",
    "codon←0 2 1⍉⍉4 4 4⍴'FLIVFLIVLLIVLLMVSPTASPTASPTASPTAYHNDYHND.QKE.QKECRSGCRSG.RRGWRRG'\n",
    "data←FASTA2'rosalind_splc.txt'\n",
    "codon makeprot (1↓data.strings)⎕R''⊢⊃data.strings"
   ]
  },
  {
   "cell_type": "markdown",
   "metadata": {},
   "source": [
    "## Enumerating k-mers Lexicographically\n",
    "http://rosalind.info/problems/lexf/"
   ]
  },
  {
   "cell_type": "code",
   "execution_count": 102,
   "metadata": {},
   "outputs": [
    {
     "data": {
      "text/html": [
       "<span style=\"white-space:pre; font-family: monospace\"> AA  AC  AG  AT  CA  CC  CG  CT  GA  GC  GG  GT  TA  TC  TG  TT\n",
       "</span>"
      ]
     },
     "execution_count": 102,
     "metadata": {},
     "output_type": "execute_result"
    }
   ],
   "source": [
    "data←file'rosalind_lexf.txt'\n",
    "string←'\\s+'⎕R''⊢⊃data\n",
    "len←⍎⊃1↓data\n",
    "\n",
    "⍝ Shorter example - comment out to run on a real data set\n",
    "string←'ACGT'\n",
    "len←2\n",
    "⍝ ---------------\n",
    "\n",
    "↓string[↑,⍳len⍴≢string]"
   ]
  },
  {
   "cell_type": "markdown",
   "metadata": {},
   "source": [
    "## Longest Increasing Subsequence\n",
    "http://rosalind.info/problems/lgis/\n",
    "\n",
    "\n",
    "Here's a tradop implementation of Wikipedia's [pseudocode](https://en.wikipedia.org/wiki/Longest_increasing_subsequence) -- not very \"array\", sadly."
   ]
  },
  {
   "cell_type": "code",
   "execution_count": 48,
   "metadata": {},
   "outputs": [],
   "source": [
    "∇ S←(cmp lss) X;N;P;M;L;i;lo;hi;mid;newL;k\n",
    "⍝ https://en.wikipedia.org/wiki/Longest_increasing_subsequence\n",
    "N←≢X\n",
    "P←N↑¯1\n",
    "M←(N+1)↑¯1\n",
    "L←0\n",
    ":for i :in ⍳N\n",
    "    (lo hi)←1 L\n",
    "    :while lo≤hi\n",
    "        mid←⌈(lo+hi)÷2\n",
    "        :if X[M[mid]] cmp X[i]\n",
    "            lo←mid+1\n",
    "        :else\n",
    "            hi←mid-1\n",
    "        :endif\n",
    "    :endwhile\n",
    "    newL←lo\n",
    "    P[i]←M[newL-1]\n",
    "    M[newL]←i\n",
    "    :if newL>L\n",
    "        L←newL\n",
    "    :endif\n",
    ":endfor\n",
    "S←L↑0\n",
    "k←M[L]\n",
    ":for i :in ⊖⍳L\n",
    "    S[i]←X[k]\n",
    "    k←P[k]\n",
    ":endfor\n",
    "∇"
   ]
  },
  {
   "cell_type": "code",
   "execution_count": 49,
   "metadata": {},
   "outputs": [
    {
     "data": {
      "text/html": [
       "<span style=\"white-space:pre; font-family: monospace\">Was OFF\n",
       "</span>"
      ]
     },
     "execution_count": 49,
     "metadata": {},
     "output_type": "execute_result"
    },
    {
     "data": {
      "text/html": [
       "<span style=\"white-space:pre; font-family: monospace\">19 66 171 217 232 320 329 339 464 500\n",
       "8790 8779 8682 8663 8636 8626 8611 8606 8522 8407\n",
       "</span>"
      ]
     },
     "execution_count": 49,
     "metadata": {},
     "output_type": "execute_result"
    }
   ],
   "source": [
    "data←file'rosalind_lgis.txt'\n",
    "seq←⍎1⊃data\n",
    "]box off\n",
    "10{⍺←0⋄⎕←⍺↑<lss ⍵⋄⎕←⍺↑>lss ⍵}seq  ⍝ NOTE: LONG RESULT; TRUNCATED FOR SPACE "
   ]
  },
  {
   "cell_type": "markdown",
   "metadata": {},
   "source": [
    "## Genome Assembly as Shortest Superstring\n",
    "http://rosalind.info/problems/long/\n",
    "\n",
    "The dataset is guaranteed to satisfy the following condition: there exists a unique way to reconstruct the entire chromosome from these reads by gluing together pairs of reads that overlap by more than half their length.\n",
    "\n",
    "It was quite hard to understand the intent here -- it does NOT mean pair up, then pair up the pairs etc. It means find a pair - then try to pair this with one of the remaining items.\n",
    "\n",
    "Not a great solution. "
   ]
  },
  {
   "cell_type": "code",
   "execution_count": 200,
   "metadata": {},
   "outputs": [],
   "source": [
    "data←FASTA2'rosalind_long-1.txt'"
   ]
  },
  {
   "cell_type": "code",
   "execution_count": 201,
   "metadata": {},
   "outputs": [],
   "source": [
    "]dinput\n",
    "glue←{\n",
    "    g←{\n",
    "        ⍺≡⍵:⍬\n",
    "        m←⍸≡⌿↑(⌽¨,\\⌽⍺) (p←,\\⍵) ⍝ Perhaps overly inefficient\n",
    "        ⍬≡m:⍬                  ⍝ No shared\n",
    "        s←≢p⊃⍨⊢/m              ⍝ Length of longest shared segment\n",
    "        s≤2÷⍨⍺⌊⍥≢⍵:⍬           ⍝ Shared is less than or equal to half shortest ⍺ ⍵\n",
    "        ⍺,s↓⍵\n",
    "    }\n",
    "    (a b)←(⍺g⍵)(⍵g⍺)           ⍝ Try matching both ways\n",
    "    (⍬ ⍬)≡a b:⍬                ⍝ No match, either way\n",
    "    ⍬≡a:b⋄⍬≡b:a                ⍝ One matches\n",
    "    a<⍥≢b:a⋄b                  ⍝ Both matches; pick shortest\n",
    "}"
   ]
  },
  {
   "cell_type": "code",
   "execution_count": 202,
   "metadata": {},
   "outputs": [],
   "source": [
    "]dinput\n",
    "long←{\n",
    "    0=≢⍵:⍺\n",
    "    v←⍸⍬∘≢¨r←⍺∘glue¨⍵\n",
    "    ⍬≡v:1÷0\n",
    "    (r⊃⍨⊃v)∇⍵~⍵⌷⍨⊃v\n",
    "}"
   ]
  },
  {
   "cell_type": "code",
   "execution_count": 203,
   "metadata": {},
   "outputs": [
    {
     "data": {
      "text/html": [
       "<span style=\"white-space:pre; font-family: monospace\">AAGTCGATGTAAAACGGGGGGGGGGGGGGCGGCAAACGCACTTGATACCA\n",
       "</span>"
      ]
     },
     "execution_count": 203,
     "metadata": {},
     "output_type": "execute_result"
    }
   ],
   "source": [
    "join←(⊃data.strings)long 1↓data.strings        ⍝ Around 5s\n",
    "50↑join ⍝ NOTE: very long (~18k)"
   ]
  },
  {
   "cell_type": "markdown",
   "metadata": {},
   "source": [
    "## Perfect Matchings and RNA Secondary Structures\n",
    "http://rosalind.info/problems/pmch/"
   ]
  },
  {
   "cell_type": "code",
   "execution_count": 42,
   "metadata": {},
   "outputs": [
    {
     "data": {
      "text/html": [
       "<span style=\"white-space:pre; font-family: monospace\">                                \n",
       "2.351723106124997067993513984E34\n",
       "                                \n",
       "</span>"
      ]
     },
     "execution_count": 42,
     "metadata": {},
     "output_type": "execute_result"
    }
   ],
   "source": [
    "×/!+/'AC'=⍤0 1⊢'UGCGGGACGCGUCAAGUACCGCGUGCGGACCACCAACCUCUCCCAAAUUUUGUGUAUCCGUGGCGGGCGAUUAAAG'"
   ]
  },
  {
   "cell_type": "markdown",
   "metadata": {},
   "source": [
    "Sadly, Dyalog's lack of bignums makes this annoying. Here's a python version:"
   ]
  },
  {
   "cell_type": "markdown",
   "metadata": {},
   "source": [
    "```python\n",
    "from collections import Counter\n",
    "from math import factorial\n",
    "\n",
    "seq='UGCGGGACGCGUCAAGUACCGCGUGCGGACCACCAACCUCUCCCAAAUUUUGUGUAUCCGUGGCGGGCGAUUAAAG'\n",
    "counts = Counter(seq)\n",
    "factorial(counts[\"A\"])*factorial(counts[\"C\"])\n",
    ">>>> 23517231061249970679935139840000000\n",
    "```"
   ]
  },
  {
   "cell_type": "markdown",
   "metadata": {},
   "source": [
    "It _can_ be done, using the `big` operator from the `dfns` ws:"
   ]
  },
  {
   "cell_type": "code",
   "execution_count": 43,
   "metadata": {},
   "outputs": [
    {
     "data": {
      "text/html": [
       "<span style=\"white-space:pre; font-family: monospace\">┌→──────────────────────────────────┐\n",
       "│23517231061249970679935139840000000│\n",
       "└───────────────────────────────────┘\n",
       "</span>"
      ]
     },
     "execution_count": 43,
     "metadata": {},
     "output_type": "execute_result"
    }
   ],
   "source": [
    "⎕FR←1287 ⍝ As big as it'll go!\n",
    "⎕PP←34\n",
    "'big'⎕CY'dfns' ⍝ Even with ⎕FR←1287 the last product needs to use `×big`\n",
    "\n",
    "⊃×big/!+/'AC'=⍤0 1⊢'UGCGGGACGCGUCAAGUACCGCGUGCGGACCACCAACCUCUCCCAAAUUUUGUGUAUCCGUGGCGGGCGAUUAAAG'"
   ]
  },
  {
   "cell_type": "markdown",
   "metadata": {},
   "source": [
    "## Inferring mRNA from Protein\n",
    "http://rosalind.info/problems/mrna/"
   ]
  },
  {
   "cell_type": "code",
   "execution_count": 50,
   "metadata": {},
   "outputs": [
    {
     "data": {
      "text/html": [
       "<span style=\"white-space:pre; font-family: monospace\">46528\n",
       "</span>"
      ]
     },
     "execution_count": 50,
     "metadata": {},
     "output_type": "execute_result"
    }
   ],
   "source": [
    "⎕IO←0\n",
    "data←⊃file'rosalind_mrna.txt'\n",
    "f←{≢⍸⍵=l}¨a←∪l←'FLIVFLIVLLIVLLMVSPTASPTASPTASPTAYHNDYHND.QKE.QKECRSGCRSG.RRGWRRG'\n",
    "(1000000|×)/f[a⍳data,'.']"
   ]
  },
  {
   "cell_type": "markdown",
   "metadata": {},
   "source": [
    "## Partial Permutations\n",
    "http://rosalind.info/problems/pper/\n",
    "\n",
    "The number of ways we can pick k items from a set size n is:\n",
    "\n",
    "    n!/(n−k)!"
   ]
  },
  {
   "cell_type": "code",
   "execution_count": 19,
   "metadata": {},
   "outputs": [
    {
     "data": {
      "text/html": [
       "<span style=\"white-space:pre; font-family: monospace\">192000\n",
       "</span>"
      ]
     },
     "execution_count": 19,
     "metadata": {},
     "output_type": "execute_result"
    }
   ],
   "source": [
    "n←100\n",
    "k←9\n",
    "assert 192000=r←⎕←1000000|k(!×∘!⊣)n"
   ]
  },
  {
   "cell_type": "markdown",
   "metadata": {},
   "source": [
    "You can't submit a solution to this problem before you have solved [Inferring mRNA from Protein](http://rosalind.info/problems/mrna/)."
   ]
  },
  {
   "cell_type": "markdown",
   "metadata": {},
   "source": [
    "## Enumerating Oriented Gene Orderings\n",
    "http://rosalind.info/problems/sign/"
   ]
  },
  {
   "cell_type": "code",
   "execution_count": 10,
   "metadata": {},
   "outputs": [
    {
     "data": {
      "text/html": [
       "<span style=\"white-space:pre; font-family: monospace\">Was ON -style=min\n",
       "</span>"
      ]
     },
     "execution_count": 10,
     "metadata": {},
     "output_type": "execute_result"
    },
    {
     "data": {
      "text/html": [
       "<span style=\"white-space:pre; font-family: monospace\">48\n",
       "1 2 -3  \n",
       "1 -3 2  \n",
       "2 1 -3  \n",
       "2 -3 1  \n",
       "-3 1 2  \n",
       "-3 2 1  \n",
       "1 -2 3  \n",
       "1 3 -2  \n",
       "-2 1 3  \n",
       "-2 3 1  \n",
       "3 1 -2  \n",
       "3 -2 1  \n",
       "1 -2 -3 \n",
       "1 -3 -2 \n",
       "-2 1 -3 \n",
       "-2 -3 1 \n",
       "-3 1 -2 \n",
       "-3 -2 1 \n",
       "-1 2 3  \n",
       "-1 3 2  \n",
       "2 -1 3  \n",
       "2 3 -1  \n",
       "3 -1 2  \n",
       "3 2 -1  \n",
       "-1 2 -3 \n",
       "-1 -3 2 \n",
       "2 -1 -3 \n",
       "2 -3 -1 \n",
       "-3 -1 2 \n",
       "-3 2 -1 \n",
       "-1 -2 3 \n",
       "-1 3 -2 \n",
       "-2 -1 3 \n",
       "-2 3 -1 \n",
       "3 -1 -2 \n",
       "3 -2 -1 \n",
       "-1 -2 -3\n",
       "-1 -3 -2\n",
       "-2 -1 -3\n",
       "-2 -3 -1\n",
       "-3 -1 -2\n",
       "-3 -2 -1\n",
       "1 2 3   \n",
       "1 3 2   \n",
       "2 1 3   \n",
       "2 3 1   \n",
       "3 1 2   \n",
       "3 2 1   \n",
       "</span>"
      ]
     },
     "execution_count": 10,
     "metadata": {},
     "output_type": "execute_result"
    }
   ],
   "source": [
    "⎕IO←1\n",
    "]box on -s=min\n",
    "\n",
    "n←3\n",
    "neg←1(⊢+⊣×0=⊢)-1↓⍤1 {⍉2∘⊥⍣¯1⍳2*⍵}n ⍝ All bit patterns of n bits, turn 1 to ¯1 and 0 to 1\n",
    "sigp←↑,,/(⊂pmat n)⌷⍤1⊢neg×⍤1 1⊢⍳n  ⍝ For every possible negation of ⍳n, pick the permutations\n",
    "{⎕←print ≢⍵⋄⎕←print ⍵}sigp         ⍝ Format for output\n",
    "\n",
    "⍝ For n>3, write to a file\n",
    "⍝(⍕≢sigp) ⎕NPUT '/Users/stefan/ros.txt'1\n",
    "⍝(sigp ⎕CSV⍠'Separator' ' '⊢'')⎕NPUT '/Users/stefan/ros.txt'2"
   ]
  },
  {
   "cell_type": "markdown",
   "metadata": {},
   "source": [
    "## Finding a Spliced Motif\n",
    "http://rosalind.info/problems/sseq/\n",
    "\n",
    "This is sort of putting the match matrix `needle ∘.= haystack` into row echelon form."
   ]
  },
  {
   "cell_type": "code",
   "execution_count": 187,
   "metadata": {},
   "outputs": [],
   "source": [
    "⎕IO←1\n",
    "data←FASTA2'rosalind_sseq-1.txt'\n",
    "haystack←⊃data.strings\n",
    "needle←⊃⊢/data.strings"
   ]
  },
  {
   "cell_type": "code",
   "execution_count": 188,
   "metadata": {},
   "outputs": [],
   "source": [
    "]dinput\n",
    "sseq←{\n",
    "    ¯1 {\n",
    "        0=≢⍵:⊖¯1↓⍺\n",
    "        (⍺,⍨⊃(m>⊃⍺)/m←⍸⊃⍵)∇1↓⍵\n",
    "    } ↓⍺∘.=⍵\n",
    "}"
   ]
  },
  {
   "cell_type": "code",
   "execution_count": 189,
   "metadata": {},
   "outputs": [
    {
     "data": {
      "text/html": [
       "<span style=\"white-space:pre; font-family: monospace\">3 4 5 8 9 10 12 13 14 16 27 34 35 40 43 52 53 54 56 59 61 63 64 69 72 77 88 98 101\n",
       "</span>"
      ]
     },
     "execution_count": 189,
     "metadata": {},
     "output_type": "execute_result"
    }
   ],
   "source": [
    "⊢r←needle sseq haystack\n",
    "assert r≡3 4 5 8 9 10 12 13 14 16 27 34 35 40 43 52 53 54 56 59 61 63 64 69 72 77 88 98 101"
   ]
  },
  {
   "cell_type": "markdown",
   "metadata": {},
   "source": [
    "## Transitions and Transversions\n",
    "http://rosalind.info/problems/tran/"
   ]
  },
  {
   "cell_type": "code",
   "execution_count": 192,
   "metadata": {},
   "outputs": [
    {
     "data": {
      "text/html": [
       "<span style=\"white-space:pre; font-family: monospace\">2.202380952380952380952380952380952\n",
       "</span>"
      ]
     },
     "execution_count": 192,
     "metadata": {},
     "output_type": "execute_result"
    }
   ],
   "source": [
    "⎕IO←0\n",
    "data←FASTA2'rosalind_tran-1.txt'\n",
    "(a b c)←+/1 2 3∘.=|-⌿'ACGT'⍳↑data.strings\n",
    "b÷a+c"
   ]
  },
  {
   "cell_type": "markdown",
   "metadata": {},
   "source": [
    "## Completing a Tree\n",
    "http://rosalind.info/problems/tree/\n",
    "\n",
    "Find the number of connected components in a graph. The traditional approach is to take a vertex, and apply a breadth-first-search to find all reachable nodes, and remove those from the graph until the graph is empty. It is possible that there is a smarter, more \"array\" approach I can't see.\n",
    "\n",
    "We borrow the bfs routine from the `dfns` workspace.\n",
    "\n",
    "Index origin of 1 matches the problem description's vertex labeling.\n",
    "\n",
    "Find the number of connected components in a graph, where the graph is represented as an adjacency index vector."
   ]
  },
  {
   "cell_type": "code",
   "execution_count": 137,
   "metadata": {},
   "outputs": [],
   "source": [
    "]dinput\n",
    "ccon←{⎕IO←1\n",
    "    graph←⍵ ⋄ v←⍳≢⍵\n",
    "    bfs←{g←⍺⋄⍬{⍵≡⍬:⍺⋄h←1↑⍵⋄(⍺,h)∇⍺~⍨(1↓⍵)∪h⊃g}⍵} ⍝ Adapted from http://dfns.dyalog.com/n_bfs.htm\n",
    "    0 {⍬≡s←v~⍵:⍺⋄(⍺+1)∇⍵,graph bfs ⊃s} ⍬ ⍝ Accumulate connected components to the left, seen vertices to the right\n",
    "}"
   ]
  },
  {
   "cell_type": "code",
   "execution_count": 138,
   "metadata": {},
   "outputs": [],
   "source": [
    "data←⍎¨⊃⎕NGET '/Users/stefan/work/dyalog/rosalind/data/rosalind_tree.txt'1"
   ]
  },
  {
   "cell_type": "code",
   "execution_count": 139,
   "metadata": {},
   "outputs": [],
   "source": [
    "vtxC←⊃data\n",
    "adjM←vtxC vtxC⍴0\n",
    "adjM[1↓data]←1"
   ]
  },
  {
   "cell_type": "markdown",
   "metadata": {},
   "source": [
    "We need to mirror the adjacency matrix as the graph is undirected. Then convert to an adjacency index vector, following the notes given in the section on graphs in [dfns workspace](http://dfns.dyalog.com/n_Graphs.htm)."
   ]
  },
  {
   "cell_type": "code",
   "execution_count": 140,
   "metadata": {},
   "outputs": [],
   "source": [
    "adjV←{{⍵/⍳⍴⍵}¨↓⍵}+⌿↑adjM (⍉adjM)"
   ]
  },
  {
   "cell_type": "markdown",
   "metadata": {},
   "source": [
    "We seek number of edges to add, which is one less than the number of connected components"
   ]
  },
  {
   "cell_type": "code",
   "execution_count": 141,
   "metadata": {},
   "outputs": [
    {
     "data": {
      "text/html": [
       "<span style=\"white-space:pre; font-family: monospace\">  \n",
       "64\n",
       "  \n",
       "</span>"
      ]
     },
     "execution_count": 141,
     "metadata": {},
     "output_type": "execute_result"
    }
   ],
   "source": [
    "⊢r←¯1+ccon adjV \n",
    "assert 64=r"
   ]
  },
  {
   "cell_type": "markdown",
   "metadata": {},
   "source": [
    "An alternative solution is to use the `scc` function from `dfns` which I discovered after I wrote the above. This is an implementation of [Tarjan's algorithm](https://en.wikipedia.org/wiki/Tarjan%27s_strongly_connected_components_algorithm) for finding the strongly connected components of a graph:"
   ]
  },
  {
   "cell_type": "code",
   "execution_count": 146,
   "metadata": {},
   "outputs": [],
   "source": [
    "'scc'⎕CY'dfns' ⍝ Strongly Connected Components http://dfns.dyalog.com/n_scc.htm"
   ]
  },
  {
   "cell_type": "code",
   "execution_count": 147,
   "metadata": {},
   "outputs": [
    {
     "data": {
      "text/html": [
       "<span style=\"white-space:pre; font-family: monospace\">64\n",
       "</span>"
      ]
     },
     "execution_count": 147,
     "metadata": {},
     "output_type": "execute_result"
    }
   ],
   "source": [
    "¯1+≢∪scc adjV "
   ]
  },
  {
   "cell_type": "markdown",
   "metadata": {},
   "source": [
    "and finally, from ninja master @ngn, using the transitive closure:"
   ]
  },
  {
   "cell_type": "code",
   "execution_count": 150,
   "metadata": {},
   "outputs": [
    {
     "data": {
      "text/html": [
       "<span style=\"white-space:pre; font-family: monospace\">64\n",
       "</span>"
      ]
     },
     "execution_count": 150,
     "metadata": {},
     "output_type": "execute_result"
    }
   ],
   "source": [
    "¯1+≢∪{(∪⍳⊢)↓∧∘⍉⍨∨.∧⍨⍣≡i∘.∊⍵,¨i←⍳≢⍵} adjV"
   ]
  },
  {
   "cell_type": "markdown",
   "metadata": {},
   "source": [
    "@ngn notes:\n",
    "\n",
    "> The version is very good for small graphs but its space and time requirements\n",
    "grow rapidly as the size increases."
   ]
  },
  {
   "cell_type": "markdown",
   "metadata": {},
   "source": [
    "## Error Correction in Reads\n",
    "http://rosalind.info/problems/corr/\n",
    "\n",
    "\n",
    "```apl\n",
    "data←FASTA2'rosalind_corr-3.txt'\n",
    "a←corr data.strings\n",
    "(⊂a) ⎕NPUT '/Users/stefan/work/notebooks/rosalind/data/CORR.txt'1\n",
    "```"
   ]
  },
  {
   "cell_type": "code",
   "execution_count": 147,
   "metadata": {},
   "outputs": [],
   "source": [
    "]dinput\n",
    "corr←{\n",
    "    (a b)←{↓⍉{⍺,≢⍵}⌸⍵} all←⍵,{⊖'TAGC'['ATCG'⍳⍵]}¨⍵   ⍝ Add revcmp and create a frequency table\n",
    "    right←all~wrong←c↑⍨⌊2÷⍨≢c←a/⍨1=b                 ⍝ Pick candidates present as-is in the data\n",
    "    hd1←1=wrong∘.(+/≠)right                          ⍝ Hamming distance = 1\n",
    "    hd1[⍸2>+/hd1;]←0                                 ⍝ Matches need to occur at least twice in the data.\n",
    "    first←<\\⍤1⊢hd1                                   ⍝ Only consider first match\n",
    "    {⍺,'->',⍵}/wrong,⍪first/⍤1 1⊢right\n",
    "}"
   ]
  },
  {
   "cell_type": "code",
   "execution_count": 148,
   "metadata": {},
   "outputs": [
    {
     "data": {
      "text/html": [
       "<span style=\"white-space:pre; font-family: monospace\">AGTAATCTTAAAGCGCACACAACATCCTACACAGACTCTATTGCCGGGAC-&gt;AGTAATCTTAAAGCGCACACAACATCCGACACAGACTCTATTGCCGGGAC\n",
       "CACAACATCCGACACAGACTCTATTGCCGGGATTAAGGACGGTATTACAT-&gt;CACAACATCCGACACAGACTCTATTGCCGGGACTAAGGACGGTATTACAT\n",
       "CACACAACATCCGACCCAGACTCTATTGCCGGGACTAAGGACGGTATTAC-&gt;CACACAACATCCGACACAGACTCTATTGCCGGGACTAAGGACGGTATTAC\n",
       "GCATGCAGACAAGCTCAAATGCGTACACCATAGCCCTGTTCACAAAGAAA-&gt;ACATGCAGACAAGCTCAAATGCGTACACCATAGCCCTGTTCACAAAGAAA\n",
       "AGGGTTCTTGTGTCGTAAGTAATCTTAAAGCGCACACAACATCCGACACA-&gt;AGGGTTCTTGGGTCGTAAGTAATCTTAAAGCGCACACAACATCCGACACA\n",
       "AATCTTAAAGCGCACACAACATCCGACACAGACTCTATTGCCGCGACTAA-&gt;AATCTTAAAGCGCACACAACATCCGACACAGACTCTATTGCCGGGACTAA\n",
       "TAATCTTAAAGCGCACACAACATCCGACACAGACTCTATTGCGGGGACTA-&gt;TAATCTTAAAGCGCACACAACATCCGACACAGACTCTATTGCCGGGACTA\n",
       "CTTGGGTCGTAAGTAATCTTACAGCGCACACAACATCCGACACAGACTCT-&gt;CTTGGGTCGTAAGTAATCTTAAAGCGCACACAACATCCGACACAGACTCT\n",
       "AGACAGGGTTCTTGGGTCGTAAGTAATCTTAAAGCGCACACAACCTCCGA-&gt;AGACAGGGTTCTTGGGTCGTAAGTAATCTTAAAGCGCACACAACATCCGA\n",
       "TAATCTCAAAGCGCACACAACATCCGACACAGACTCTATTGCCGGGACTA-&gt;TAATCTTAAAGCGCACACAACATCCGACACAGACTCTATTGCCGGGACTA\n",
       "</span>"
      ]
     },
     "execution_count": 148,
     "metadata": {},
     "output_type": "execute_result"
    }
   ],
   "source": [
    "data←FASTA2'rosalind_corr-3.txt'\n",
    "a←corr data.strings\n",
    "↑10↑a ⍝ big data..."
   ]
  },
  {
   "cell_type": "markdown",
   "metadata": {},
   "source": [
    "## Finding a Shared Spliced Motif\n",
    "http://rosalind.info/problems/lcsq/"
   ]
  },
  {
   "cell_type": "code",
   "execution_count": 193,
   "metadata": {},
   "outputs": [],
   "source": [
    "]dinput\n",
    "lcsq←{\n",
    "    M←↑⊃{⍵,⊂⌈\\last⌈(⍺+0,¯1↓last←⊃⌽⍵)⌈0,¯1↓⍺}/(⊂⊂{0}¨⍵),⍨⌽↓⍺∘.=⍵\n",
    "    mat←2<⌿2</0,M\n",
    "    pos←(⍸mat){⍵[⍋⍵]⊆⍺[⍋⍵]}mat/⍥,1↓M\n",
    "    ind←1↓¨{⍵,¯1↑⍺/⍨∧/¨⍺<¯1↑⍵}/pos,⊂⊂⍴M\n",
    "    ⌽⍺⌷⍨⊃¨¨ind\n",
    "}"
   ]
  },
  {
   "cell_type": "code",
   "execution_count": 194,
   "metadata": {},
   "outputs": [
    {
     "data": {
      "text/html": [
       "<span style=\"white-space:pre; font-family: monospace\">TCCCAAGCTGAACCGTTGGCACGAACCCATGTGAGTCAGGACCCAAATCGTCCACATAAATTTGGTTGCATGCTGCCCCTCGGCCCCTATAGGCAATTTCTGGTGGGGTCACAAGTTGGAGCACTAGTAAGTGGTTACCATTACGCCCTGTGAAGGATAAAGGTCGCAAATTAAACCTCGGCATGTCGTACCGTGTTTGTCTAACACACGCGGATCACAGCATCTTATAACAGATCGGACTCACCCTGGCTTCGCCAAAAAAGCCCGATGACTGCCGAGGGCCATCGGGCTGCAACAATAACTCGGTATTGACCATTTGTGGACGACAGAATTTTCTGGGAGTGGTATCGCGGTGGCGTCGGCGCGCACTGGATAGGACATTGTGGAAGTCTTTCCAGCCGCTCCCTTTTAAAACGTAGGTTGCGTTCAATAATCCATCTCACCGATCCCTGAGCCCTATTGAAGTGAGGGTATTTCATCTGATCTTGCAAGGAGCGGACGGAAAATGGGACTTCTACGTGCGAACATCATTTCAACTTCTACAATACAATCCTAGCGT\n",
       "</span>"
      ]
     },
     "execution_count": 194,
     "metadata": {},
     "output_type": "execute_result"
    }
   ],
   "source": [
    "data←FASTA2'rosalind_lcsq-2.txt'\n",
    "⊃lcsq/data.strings"
   ]
  },
  {
   "cell_type": "markdown",
   "metadata": {},
   "source": [
    "## Calculating Expected Offspring\n",
    "http://rosalind.info/problems/iev/\n",
    "\n",
    "Six possible genotype pairings:\n",
    "\n",
    "1. AA - AA\n",
    "1. AA - Aa\n",
    "1. AA - aa\n",
    "1. Aa - Aa\n",
    "1. Aa - aa\n",
    "1. aa - aa\n",
    "\n",
    "Probability that offspring has `A`: 1 1 1 0.75 0.5 0\n",
    "\n",
    "So we multiply each probability with the given number of couples per pairing type, sum, and multiply by 2, as we're looking at 2 offspring per couple."
   ]
  },
  {
   "cell_type": "code",
   "execution_count": 10,
   "metadata": {},
   "outputs": [
    {
     "data": {
      "text/html": [
       "<span style=\"white-space:pre; font-family: monospace\">      \n",
       "153703\n",
       "      \n",
       "</span>"
      ]
     },
     "execution_count": 10,
     "metadata": {},
     "output_type": "execute_result"
    }
   ],
   "source": [
    "data ← 19083 17341 19657 16896 16197 18256\n",
    "iev ← {2×⍵+.×1 1 1 0.75 0.5 0}\n",
    "assert 153703=⎕←iev data"
   ]
  },
  {
   "cell_type": "markdown",
   "metadata": {},
   "source": [
    "## Introduction to Random Strings\n",
    "http://rosalind.info/problems/prob/"
   ]
  },
  {
   "cell_type": "code",
   "execution_count": 16,
   "metadata": {},
   "outputs": [
    {
     "data": {
      "text/html": [
       "<span style=\"white-space:pre; font-family: monospace\">Was ON\n",
       "</span>"
      ]
     },
     "execution_count": 16,
     "metadata": {},
     "output_type": "execute_result"
    }
   ],
   "source": [
    "]box off\n",
    "data←⊃⎕NGET'/Users/stefan/work/notebooks/rosalind/data/rosalind_prob.txt'1"
   ]
  },
  {
   "cell_type": "code",
   "execution_count": 17,
   "metadata": {},
   "outputs": [],
   "source": [
    "prob←{∆←at cg (cg←⍺÷2) (at←2÷⍨1-⍺)⋄⍎3⍕10⍟×/∆['ACGT'⍳⍵]}"
   ]
  },
  {
   "cell_type": "code",
   "execution_count": 18,
   "metadata": {},
   "outputs": [
    {
     "data": {
      "text/html": [
       "<span style=\"white-space:pre; font-family: monospace\">-80.361 -77.242 -65.164 -61.852 -60.076 -55.956 -54.853 -53.654 -53.314 -53.223 -53.326 -53.993 -57.01 -59.232 -62.765 -67.267\n",
       "</span>"
      ]
     },
     "execution_count": 18,
     "metadata": {},
     "output_type": "execute_result"
    }
   ],
   "source": [
    "s←⊃data ⋄ A←⍎1⊃data\n",
    "'-'@(=∘'¯')⍕A prob⍤0 1⊢s ⍝ Remember to flip APL high minus to dash"
   ]
  },
  {
   "cell_type": "markdown",
   "metadata": {},
   "source": [
    "## Counting Phylogenetic Ancestors\n",
    "http://rosalind.info/problems/inod/\n",
    "\n",
    "In an unrooted binary tree with `n` leaves, there are `n−2` internal nodes, for a total of `2n−2` nodes and, therefore, `2n−1` edges."
   ]
  },
  {
   "cell_type": "code",
   "execution_count": 19,
   "metadata": {},
   "outputs": [
    {
     "data": {
      "text/html": [
       "<span style=\"white-space:pre; font-family: monospace\">3992\n",
       "</span>"
      ]
     },
     "execution_count": 19,
     "metadata": {},
     "output_type": "execute_result"
    }
   ],
   "source": [
    "n←3994\n",
    "n-2"
   ]
  },
  {
   "cell_type": "markdown",
   "metadata": {},
   "source": [
    "## k-Mer Composition\n",
    "http://rosalind.info/problems/kmer/\n",
    "\n",
    "We don't need to do any sorting. We generate the possible kmers in lexicographical order:\n",
    "\n",
    "```apl\n",
    "'ACGT'[↑,⍳4 4 4 4]\n",
    "```\n",
    "The k-mers in the string are generated with a windowed reduction `4,/⍵`, and we bind these to dyadic `⍳` to pre-hash the array for lookups with `k∘⍳`."
   ]
  },
  {
   "cell_type": "code",
   "execution_count": 152,
   "metadata": {},
   "outputs": [],
   "source": [
    "data←FASTA2'rosalind_kmer-1.txt'"
   ]
  },
  {
   "cell_type": "code",
   "execution_count": 153,
   "metadata": {},
   "outputs": [],
   "source": [
    "kmer←{(k c)←↓⍉{⍺,≢⍵}⌸4,/⍵⋄(c,0)[k∘⍳↓'ACGT'[↑,⍳4/4]]}"
   ]
  },
  {
   "cell_type": "code",
   "execution_count": 154,
   "metadata": {},
   "outputs": [
    {
     "data": {
      "text/html": [
       "<span style=\"white-space:pre; font-family: monospace\">351 366 363 390 398 388 363 385 412 378 402 388 404 373 424 354 389 394 402 398 396 387 405 369 401 380 341 380 388 389 379 444 427 366 389 382 373 391 399 398 402 394 387 373 425 379 395 363 360 368 388 408 401 406 373 405 394 381 389 425 398 388 384 415 363 401 397 350 412 388 395 390 400 391 398 393 367 387 399 368 398 391 415 368 399 371 404 379 392 419 428 393 397 416 389 362 403 393 356 407 373 404 347 397 395 363 356 416 389 397 359 381 401 402 397 403 382 405 397 394 400 418 348 418 418 400 405 364 380 388 429 416 386 388 376 413 382 395 355 383 362 432 363 449 361 396 375 357 376 412 408 401 369 351 383 378 409 382 401 386 370 413 389 407 374 377 348 370 399 366 390 374 361 389 387 378 400 385 383 401 388 410 379 420 392 400 373 393 383 369 405 359 376 379 390 399 387 393 368 412 370 397 401 398 391 393 403 414 363 404 390 398 401 383 415 415 397 371 378 375 409 391 415 395 413 391 381 410 369 425 388 413 383 346 396 352 394 432 417 394 383 405 398 389 384 393 372 391 409 396 367 401 376 383 379 381\n",
       "</span>"
      ]
     },
     "execution_count": 154,
     "metadata": {},
     "output_type": "execute_result"
    }
   ],
   "source": [
    "kmer ⊃data.strings"
   ]
  },
  {
   "cell_type": "markdown",
   "metadata": {},
   "source": [
    "## Speeding Up Motif Finding\n",
    "\n",
    "http://rosalind.info/problems/kmp/\n",
    "\n",
    "Knuth-Morris-Pratt. A beautiful thing."
   ]
  },
  {
   "cell_type": "code",
   "execution_count": 195,
   "metadata": {},
   "outputs": [],
   "source": [
    "⎕IO←0\n",
    "data←FASTA2'rosalind_kmp-1.txt'"
   ]
  },
  {
   "cell_type": "code",
   "execution_count": 156,
   "metadata": {},
   "outputs": [],
   "source": [
    "]dinput\n",
    "P←prefix s;m;i;j\n",
    "m←≢s\n",
    "P←0⍴⍨m\n",
    "j←0\n",
    ":for i :in 1+⍳¯1+m\n",
    "    :while j≥0\n",
    "        :if s[j]=s[i]\n",
    "            :leave\n",
    "        :endif\n",
    "        :if (j-1)≥0\n",
    "            j←P[j-1]\n",
    "        :else\n",
    "            j←¯1\n",
    "        :endif\n",
    "    :endwhile\n",
    "    j+←1\n",
    "    P[i]←j\n",
    ":endfor"
   ]
  },
  {
   "cell_type": "code",
   "execution_count": 161,
   "metadata": {},
   "outputs": [],
   "source": [
    "result ← prefix ⊃data.strings"
   ]
  },
  {
   "cell_type": "code",
   "execution_count": 162,
   "metadata": {},
   "outputs": [
    {
     "data": {
      "text/html": [
       "<span style=\"white-space:pre; font-family: monospace\">0 1 2 0 1 2 3 3 3 3\n",
       "</span>"
      ]
     },
     "execution_count": 162,
     "metadata": {},
     "output_type": "execute_result"
    }
   ],
   "source": [
    "assert 0 1 2 0 1 2 3 3 3 3≡⎕←10↑result ⍝ VERY long!"
   ]
  },
  {
   "cell_type": "markdown",
   "metadata": {},
   "source": [
    "Here's a dfn version of the same:"
   ]
  },
  {
   "cell_type": "code",
   "execution_count": 163,
   "metadata": {},
   "outputs": [],
   "source": [
    "]dinput\n",
    "pfx←{\n",
    "    s←⍵\n",
    "    P←0⍴⍨≢⍵\n",
    "    j←0\n",
    "    0{\n",
    "        ⍺=≢⍵:P\n",
    "        i←⍺⊃⍵\n",
    "        P[i]←j⊢←1+{⍵<0:⍵ ⋄ s[⍵]=s[i]:⍵ ⋄ 0≤⍵-1:∇ P[⍵-1] ⋄ ¯1}j\n",
    "        (⍺+1)∇ ⍵\n",
    "    }1+⍳¯1+≢⍵\n",
    "}"
   ]
  },
  {
   "cell_type": "code",
   "execution_count": 164,
   "metadata": {},
   "outputs": [
    {
     "data": {
      "text/html": [
       "<span style=\"white-space:pre; font-family: monospace\">0 1 2 0 1 2 3 3 3 3\n",
       "</span>"
      ]
     },
     "execution_count": 164,
     "metadata": {},
     "output_type": "execute_result"
    }
   ],
   "source": [
    "result ← pfx ⊃data.strings\n",
    "assert 0 1 2 0 1 2 3 3 3 3≡⎕←10↑result ⍝ VERY long!"
   ]
  },
  {
   "cell_type": "markdown",
   "metadata": {},
   "source": [
    "## Inferring Protein from Spectrum\n",
    "http://rosalind.info/problems/spec/"
   ]
  },
  {
   "cell_type": "code",
   "execution_count": 84,
   "metadata": {},
   "outputs": [],
   "source": [
    "data ←⍎¨file'rosalind_spec-1.txt'\n",
    "mmt←71.0371 0 103.0092 115.0269 129.0426 147.0684 57.0215 137.0589 113.0841 0 128.095 113.0841 131.0405 114.0429 0 97.0528 128.0586 156.1011 87.032 101.0477 0 99.0684 186.0793 0 163.0633 0"
   ]
  },
  {
   "cell_type": "code",
   "execution_count": 85,
   "metadata": {},
   "outputs": [],
   "source": [
    "diff←{⍎4⍕⍵}¨|2-/data ⍝ 4 decimal places"
   ]
  },
  {
   "cell_type": "code",
   "execution_count": 86,
   "metadata": {},
   "outputs": [
    {
     "data": {
      "text/html": [
       "<span style=\"white-space:pre; font-family: monospace\">VRNDITISGMAWIVNPCWFCDQTQDCIEPSEYGQCGWEDIEWIIYDYFWPSTFIEACDKIDHGPDIEYYHRRNAQNMERKRWPIWGGWAI\n",
       "</span>"
      ]
     },
     "execution_count": 86,
     "metadata": {},
     "output_type": "execute_result"
    }
   ],
   "source": [
    "⎕A[mmt⍳diff]"
   ]
  },
  {
   "cell_type": "markdown",
   "metadata": {},
   "source": [
    "## Ordering Strings of Varying Length Lexicographically\n",
    "https://rosalind.info/problems/lexv/"
   ]
  },
  {
   "cell_type": "code",
   "execution_count": 105,
   "metadata": {},
   "outputs": [
    {
     "data": {
      "text/html": [
       "<span style=\"white-space:pre; font-family: monospace\">D  \n",
       "DD \n",
       "DDD\n",
       "DDN\n",
       "DDA\n",
       "DN \n",
       "DND\n",
       "DNN\n",
       "DNA\n",
       "DA \n",
       "DAD\n",
       "DAN\n",
       "DAA\n",
       "N  \n",
       "ND \n",
       "NDD\n",
       "NDN\n",
       "NDA\n",
       "NN \n",
       "NND\n",
       "NNN\n",
       "NNA\n",
       "NA \n",
       "NAD\n",
       "NAN\n",
       "NAA\n",
       "A  \n",
       "AD \n",
       "ADD\n",
       "ADN\n",
       "ADA\n",
       "AN \n",
       "AND\n",
       "ANN\n",
       "ANA\n",
       "AA \n",
       "AAD\n",
       "AAN\n",
       "AAA\n",
       "</span>"
      ]
     },
     "execution_count": 105,
     "metadata": {},
     "output_type": "execute_result"
    }
   ],
   "source": [
    "⎕IO←0\n",
    "one←'DNA '[↑,(⍳3),¨⊂3 3]\n",
    "two←'DNA '[↑,(⍳3 3),¨3]\n",
    "three←'DNA '[↑,⍳3 3 3]\n",
    "s←three⍪two⍪one\n",
    "s[' DNA'⍋s;]"
   ]
  },
  {
   "cell_type": "code",
   "execution_count": 112,
   "metadata": {},
   "outputs": [],
   "source": [
    "⎕IO←1"
   ]
  },
  {
   "cell_type": "code",
   "execution_count": 123,
   "metadata": {},
   "outputs": [],
   "source": [
    "data←'DBREQFKCMIAL'\n",
    "len←3\n",
    "s←↑len {⊃,/(⍳⍺){,↓⍵[↑,¨⍳⍺⍴≢⍵]}¨⊂⍵} data\n",
    "out←s[s⍋⍨' ',data;]\n",
    "(⊂↓out)⎕NPUT'/Users/stefan/work/notebooks/rosalind/data/lexv-out.txt'1"
   ]
  },
  {
   "cell_type": "markdown",
   "metadata": {},
   "source": [
    "## Counting Subsets\n",
    "https://rosalind.info/problems/sset/\n",
    "\n",
    "Boils down to how to do modular exponentiation without overflow. Solution in APLCart."
   ]
  },
  {
   "cell_type": "code",
   "execution_count": 3,
   "metadata": {},
   "outputs": [],
   "source": [
    "modexp←{⍺⍺{⍺⍺|⍺×⍺⍺|×⍨⍵}⌿⍺*⍤1⊖0⍪2⊥⍣¯1⊢⍵} ⍝ https://aplcart.info?q=modulo%20power"
   ]
  },
  {
   "cell_type": "code",
   "execution_count": 6,
   "metadata": {},
   "outputs": [
    {
     "data": {
      "text/html": [
       "<span style=\"white-space:pre; font-family: monospace\">      \n",
       "483392\n",
       "      \n",
       "</span>"
      ]
     },
     "execution_count": 6,
     "metadata": {},
     "output_type": "execute_result"
    }
   ],
   "source": [
    "assert 483392=⎕←2 (1e6 modexp) 873"
   ]
  },
  {
   "cell_type": "markdown",
   "metadata": {},
   "source": [
    "## Mortal Fibonacci Rabbits\n",
    "https://rosalind.info/problems/fibd/\n",
    "\n",
    "A small modification to the normal recurrence to only sum the 'living' rabbit pairs."
   ]
  },
  {
   "cell_type": "code",
   "execution_count": 11,
   "metadata": {},
   "outputs": [],
   "source": [
    "⎕PP←34   ⍝ Numeric print precision\n",
    "⎕FR←1287 ⍝ IEEE 754-2008 128-bit decimal floating-point operations"
   ]
  },
  {
   "cell_type": "code",
   "execution_count": 19,
   "metadata": {},
   "outputs": [],
   "source": [
    "]dinput\n",
    "fibn←{ ⍝ Ungolfed\n",
    "    (m n)←⍺ ⍵\n",
    "    {\n",
    "        ⍺←1 1\n",
    "        ⍵=n-2:⍺\n",
    "        (⍺,⍺{m>⍵+2:+⌿⍺[⍵+0 1]⋄+⌿⍺[⍵-⍳m-1]}⍵)∇⍵+1\n",
    "    } 0\n",
    "}"
   ]
  },
  {
   "cell_type": "code",
   "execution_count": 17,
   "metadata": {},
   "outputs": [],
   "source": [
    "fibn2←{⍺←1 1⋄⍵=⍵⍵-2:⍺⋄(⍺,⍺(⍺⍺{⍺⍺>⍵+2:+⌿⍺[⍵+0 1]⋄+⌿⍺[⍵-⍳⍺⍺-1]})⍵)∇⍵+1}"
   ]
  },
  {
   "cell_type": "code",
   "execution_count": 18,
   "metadata": {},
   "outputs": [
    {
     "data": {
      "text/html": [
       "<span style=\"white-space:pre; font-family: monospace\"> \n",
       "4\n",
       " \n",
       "</span>"
      ]
     },
     "execution_count": 18,
     "metadata": {},
     "output_type": "execute_result"
    },
    {
     "data": {
      "text/html": [
       "<span style=\"white-space:pre; font-family: monospace\">                  \n",
       "258314806822396236\n",
       "                  \n",
       "</span>"
      ]
     },
     "execution_count": 18,
     "metadata": {},
     "output_type": "execute_result"
    }
   ],
   "source": [
    "assert 4=⎕←⊃⊖(3 fibn2 6) 0\n",
    "assert 258314806822396236=⎕←⊃⊖(18 fibn2 85) 0"
   ]
  },
  {
   "cell_type": "markdown",
   "metadata": {},
   "source": [
    "## Introduction to Pattern Matching\n",
    "https://rosalind.info/problems/trie/\n",
    "\n",
    "Flat, fairly fast (~35ms). Hard to get right, sadly."
   ]
  },
  {
   "cell_type": "code",
   "execution_count": 64,
   "metadata": {},
   "outputs": [],
   "source": [
    "]dinput\n",
    "trie←{⎕IO←0\n",
    "    n←,'⍣'                          ⍝ Nodes. ⍣ is the root placeholder\n",
    "    p←,0                            ⍝ Parents\n",
    "    mk←{p,←⍺⋄i←≢n⋄n,←⍵⋄i}           ⍝ Make a new child node, return its index in n\n",
    "    _←0 {                           ⍝ Function to add the letters of a word to the trie, starting at node 0\n",
    "        0=≢⍵:⍬\n",
    "        c←0~⍨⍸p=⍺                   ⍝ Find ⍺'s children: nodes where ⍺ is the parent\n",
    "        0≠+⌿m←n[c]=⊃⍵:(c⊃⍨⊃⍸m)∇1↓⍵  ⍝ If first letter matches one of the children, recur down that branch\n",
    "        (⍺ mk ⊃⍵)∇1↓⍵               ⍝ Else, attach a new edge here\n",
    "    }¨⊆⍵\n",
    "    ⍉↑(1+1↓p)(2+⍳≢nn)(nn←1↓n)       ⍝ Return as adjacency list, numbered as indicated by problem statement\n",
    "}"
   ]
  },
  {
   "cell_type": "code",
   "execution_count": 63,
   "metadata": {},
   "outputs": [
    {
     "data": {
      "text/html": [
       "<span style=\"white-space:pre; font-family: monospace\">┌→─────┐\n",
       "↓1  2 A│\n",
       "│2  3 T│\n",
       "│3  4 A│\n",
       "│4  5 G│\n",
       "│5  6 A│\n",
       "│3  7 C│\n",
       "│1  8 G│\n",
       "│8  9 A│\n",
       "│9 10 T│\n",
       "└+─────┘\n",
       "</span>"
      ]
     },
     "execution_count": 63,
     "metadata": {},
     "output_type": "execute_result"
    }
   ],
   "source": [
    "trie 'ATAGA' 'ATC' 'GAT'            ⍝ Test case given"
   ]
  },
  {
   "cell_type": "code",
   "execution_count": 56,
   "metadata": {},
   "outputs": [],
   "source": [
    "data←file 'rosalind_trie.txt'"
   ]
  },
  {
   "cell_type": "code",
   "execution_count": 57,
   "metadata": {},
   "outputs": [],
   "source": [
    "result←trie data"
   ]
  },
  {
   "cell_type": "code",
   "execution_count": 58,
   "metadata": {},
   "outputs": [
    {
     "data": {
      "text/html": [
       "<span style=\"white-space:pre; font-family: monospace\">┌→─────┐\n",
       "│8740 3│\n",
       "└~─────┘\n",
       "</span>"
      ]
     },
     "execution_count": 58,
     "metadata": {},
     "output_type": "execute_result"
    }
   ],
   "source": [
    "⍴result"
   ]
  },
  {
   "cell_type": "code",
   "execution_count": 59,
   "metadata": {},
   "outputs": [
    {
     "data": {
      "text/html": [
       "<span style=\"white-space:pre; font-family: monospace\">┌→──────┐\n",
       "↓ 1  2 T│\n",
       "│ 2  3 G│\n",
       "│ 3  4 G│\n",
       "│ 4  5 T│\n",
       "│ 5  6 A│\n",
       "│ 6  7 G│\n",
       "│ 7  8 G│\n",
       "│ 8  9 A│\n",
       "│ 9 10 T│\n",
       "│10 11 G│\n",
       "│11 12 T│\n",
       "│12 13 G│\n",
       "│13 14 A│\n",
       "│14 15 G│\n",
       "│15 16 T│\n",
       "│16 17 T│\n",
       "│17 18 G│\n",
       "│18 19 G│\n",
       "│19 20 T│\n",
       "│20 21 A│\n",
       "└+──────┘\n",
       "</span>"
      ]
     },
     "execution_count": 59,
     "metadata": {},
     "output_type": "execute_result"
    }
   ],
   "source": [
    "20↑result"
   ]
  },
  {
   "cell_type": "code",
   "execution_count": null,
   "metadata": {},
   "outputs": [],
   "source": []
  }
 ],
 "metadata": {
  "kernelspec": {
   "display_name": "Dyalog APL",
   "language": "apl",
   "name": "dyalog-kernel"
  },
  "language_info": {
   "file_extension": ".apl",
   "mimetype": "text/apl",
   "name": "APL"
  }
 },
 "nbformat": 4,
 "nbformat_minor": 4
}
